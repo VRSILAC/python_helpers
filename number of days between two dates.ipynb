{
 "cells": [
  {
   "cell_type": "code",
   "execution_count": 27,
   "metadata": {},
   "outputs": [],
   "source": [
    "# Plan:\n",
    "# check if the second date is not before the first date\n",
    "# check if there are multiple years\n",
    "# check if either of the two dates have leap years\n",
    "# check if february is in the range of months between the two dates\n",
    "# if february is in the range, check if it's leap year or not and then accordingly use one of the two dictionaries\n",
    "# subract the given date from the number of days in the current month \n",
    "# get the number of days in each month until before the month of the second date\n",
    "# take the date in the second date as the number of days in the second date\n",
    "# see which months are in the first year\n",
    "# see which months are in the last year\n",
    "# if there are multiple years, multiply the (difference in years - 1) between two dates by the number of in-between months (not the start and finish months)\n",
    "# add up the number of days from steps 7-10"
   ]
  },
  {
   "cell_type": "code",
   "execution_count": 53,
   "metadata": {},
   "outputs": [],
   "source": [
    "def dateIsBefore(y1, m1, d1, y2, m2, d2):\n",
    "    if (y2 > y1):\n",
    "        return False \n",
    "    if (y2 == y1):\n",
    "        if (m2 > m1):\n",
    "            return False\n",
    "        if (m2 == m1):\n",
    "            return d2 > d1\n",
    "    return True"
   ]
  },
  {
   "cell_type": "code",
   "execution_count": 54,
   "metadata": {},
   "outputs": [
    {
     "name": "stdout",
     "output_type": "stream",
     "text": [
      "True\n",
      "False\n"
     ]
    }
   ],
   "source": [
    "print(dateIsBefore(1999, 12, 2, 1998, 12, 1))\n",
    "print(dateIsBefore(1999, 12, 1, 2000, 12, 1))"
   ]
  },
  {
   "cell_type": "code",
   "execution_count": null,
   "metadata": {},
   "outputs": [],
   "source": [
    "%reset"
   ]
  },
  {
   "cell_type": "code",
   "execution_count": 7,
   "metadata": {},
   "outputs": [],
   "source": [
    "def isLeapYear(y1, y2):\n",
    "    if year % 4 == 0:\n",
    "        return  True\n",
    "    else:\n",
    "        return False"
   ]
  },
  {
   "cell_type": "code",
   "execution_count": 9,
   "metadata": {},
   "outputs": [
    {
     "name": "stdout",
     "output_type": "stream",
     "text": [
      "False\n"
     ]
    }
   ],
   "source": [
    "print(isLeapYear(2054))"
   ]
  },
  {
   "cell_type": "code",
   "execution_count": 10,
   "metadata": {},
   "outputs": [
    {
     "name": "stdout",
     "output_type": "stream",
     "text": [
      "<class 'dict'>\n"
     ]
    }
   ],
   "source": [
    "# days_leap = {'1': 31, '2': 29, '3': 31, '4': 30, '5': 31, '6': 30, '7': 31, '8': 31, '9': 30, '10': 31, '11': 30, '12': 31}\n",
    "# days_non_leap = {'1': 31, '2': 28, '3': 31, '4': 30, '5': 31, '6': 30, '7': 31, '8': 31, '9': 30, '10': 31, '11': 30, '12': 31}\n",
    "days_in_month = {'1': 31, '2': 28, '3': 31, '4': 30, '5': 31, '6': 30, '7': 31, '8': 31, '9': 30, '10': 31, '11': 30, '12': 31}\n",
    "\n"
   ]
  },
  {
   "cell_type": "code",
   "execution_count": 13,
   "metadata": {},
   "outputs": [],
   "source": [
    "def multipleYears(year1, year2):\n",
    "    if year1 - year2 != 0:\n",
    "        return True\n",
    "    else:\n",
    "        return False"
   ]
  },
  {
   "cell_type": "code",
   "execution_count": 32,
   "metadata": {},
   "outputs": [],
   "source": [
    "def main(x,y):\n",
    "\n",
    "    if True:\n",
    "        z = x + y\n",
    "\n",
    "    for i in range(10):\n",
    "        z+=i\n",
    "        print(i, z)\n",
    "\n",
    "    return z"
   ]
  },
  {
   "cell_type": "code",
   "execution_count": 33,
   "metadata": {},
   "outputs": [
    {
     "name": "stdout",
     "output_type": "stream",
     "text": [
      "0 15\n",
      "1 16\n",
      "2 18\n",
      "3 21\n",
      "4 25\n",
      "5 30\n",
      "6 36\n",
      "7 43\n",
      "8 51\n",
      "9 60\n",
      "60\n"
     ]
    }
   ],
   "source": [
    "print(main(9, 6))"
   ]
  },
  {
   "cell_type": "code",
   "execution_count": null,
   "metadata": {},
   "outputs": [],
   "source": []
  }
 ],
 "metadata": {
  "kernelspec": {
   "display_name": "Python 3",
   "language": "python",
   "name": "python3"
  },
  "language_info": {
   "codemirror_mode": {
    "name": "ipython",
    "version": 3
   },
   "file_extension": ".py",
   "mimetype": "text/x-python",
   "name": "python",
   "nbconvert_exporter": "python",
   "pygments_lexer": "ipython3",
   "version": "3.7.6"
  }
 },
 "nbformat": 4,
 "nbformat_minor": 4
}
