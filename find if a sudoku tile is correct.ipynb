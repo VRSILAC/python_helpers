{
 "cells": [
  {
   "cell_type": "code",
   "execution_count": 3,
   "metadata": {},
   "outputs": [],
   "source": [
    "import numpy as np"
   ]
  },
  {
   "cell_type": "code",
   "execution_count": 57,
   "metadata": {},
   "outputs": [],
   "source": [
    "# check the correctness of a sudoku tile\n",
    "\n",
    "def check_sudoku(list_name):\n",
    "    '''\n",
    "    this function checks if a sudoku tile is correct or not.\n",
    "    it will check the correctness of a tile using multiple \n",
    "    steps and rules about sudoku.\n",
    "    \n",
    "    1. a sudoku tile should be of n X n dimension\n",
    "    2. the largest number in a tile couldn't be larger than n\n",
    "    3. all numbers in each row and column in a tile should be unique\n",
    "    4. tiles can only be populated by an integer\n",
    "    '''\n",
    "    # first convert the list of lists in an np array\n",
    "    \n",
    "    array_name = np.array(list_name)\n",
    "    \n",
    "    # check the dimension of the array (it returns a tuple)\n",
    "    \n",
    "    array_shape = np.shape(array_name)\n",
    "    \n",
    "    cond1 = 0\n",
    "    if array_shape[0] == array_shape[1]:\n",
    "        cond1 = 0\n",
    "    else:\n",
    "        cond1 = 1\n",
    "        print(cond1)\n",
    "        \n",
    "    # check that the largest number in the tile == n (as in n X n)\n",
    "    \n",
    "    cond2 = 0\n",
    "    if np.amax(array_name) == array_shape[0]:\n",
    "        cond2 = 0\n",
    "    else:\n",
    "        cond2 = 1\n",
    "        print(cond2)\n",
    "        \n",
    "    # check that number of unique elements in each row and each column == n (as in n X n)\n",
    "    \n",
    "    cond3 = 0\n",
    "    if len(np.unique(array_name)) == array_shape[0]:\n",
    "        cond3 = 0\n",
    "    else:\n",
    "        cond3 = 1\n",
    "        print(cond3)\n",
    "        \n",
    "    # check that each element of the tile is an integer\n",
    "    \n",
    "    cond4 = all(map(lambda i: isinstance(i, (int, np.integer)), array_name.flatten()))\n",
    "    if cond4 == True:\n",
    "        cond4 = 0\n",
    "    else:\n",
    "        cond4 = 1\n",
    "        print(cond4)\n",
    "        \n",
    "    final = cond1 + cond2 + cond3 + cond4\n",
    "    print(final)\n",
    "    \n",
    "    # if value of final == 0, the tile is correct otherwise false\n",
    "    \n",
    "    if final == 0:\n",
    "        return True\n",
    "    else:\n",
    "        return False"
   ]
  },
  {
   "cell_type": "code",
   "execution_count": 68,
   "metadata": {},
   "outputs": [],
   "source": [
    "correct = [[1,2,3],\n",
    "           [2,3,1],\n",
    "           [3,1,2]]\n",
    "\n",
    "incorrect1 = [ [1, 1.5],\n",
    "               [1.5, 1]]\n",
    "\n",
    "incorrect2 = [[1,2,3,4,5],\n",
    "              [2,3,1,5,6],\n",
    "              [4,5,2,1,3],\n",
    "              [3,4,5,2,1],\n",
    "              [5,6,4,3,2]]"
   ]
  },
  {
   "cell_type": "code",
   "execution_count": 69,
   "metadata": {},
   "outputs": [
    {
     "name": "stdout",
     "output_type": "stream",
     "text": [
      "0\n",
      "True\n",
      "1\n",
      "1\n",
      "2\n",
      "False\n",
      "1\n",
      "1\n",
      "2\n",
      "False\n"
     ]
    }
   ],
   "source": [
    "print(check_sudoku(correct))\n",
    "print(check_sudoku(incorrect1))\n",
    "print(check_sudoku(incorrect2))"
   ]
  }
 ],
 "metadata": {
  "kernelspec": {
   "display_name": "Python 3",
   "language": "python",
   "name": "python3"
  },
  "language_info": {
   "codemirror_mode": {
    "name": "ipython",
    "version": 3
   },
   "file_extension": ".py",
   "mimetype": "text/x-python",
   "name": "python",
   "nbconvert_exporter": "python",
   "pygments_lexer": "ipython3",
   "version": "3.7.6"
  }
 },
 "nbformat": 4,
 "nbformat_minor": 4
}
