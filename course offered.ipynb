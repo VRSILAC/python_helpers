{
 "cells": [
  {
   "cell_type": "markdown",
   "metadata": {},
   "source": [
    "### Manipulate and access elements in a nested dictionary "
   ]
  },
  {
   "cell_type": "code",
   "execution_count": 1,
   "metadata": {},
   "outputs": [],
   "source": [
    "# an example of a nested dictionary\n",
    "\n",
    "courses = {\n",
    "    'spring2020': { 'cs101': {'name': 'Building a Search Engine',\n",
    "                           'teacher': 'Dave',\n",
    "                           'assistant': 'Peter C.'},\n",
    "                 'cs373': {'name': 'Programming a Robotic Car',\n",
    "                           'teacher': 'Sebastian',\n",
    "                           'assistant': 'Andy'}},\n",
    "    'fall2020': { 'cs101': {'name': 'Building a Search Engine',\n",
    "                           'teacher': 'Dave',\n",
    "                           'assistant': 'Sarah'},\n",
    "                 'cs212': {'name': 'The Design of Computer Programs',\n",
    "                           'teacher': 'Peter N.',\n",
    "                           'assistant': 'Andy',\n",
    "                           'prereq': 'cs101'},\n",
    "                 'cs253': {'name': 'Web Application Engineering - Building a Blog',\n",
    "                           'teacher': 'Steve',\n",
    "                           'prereq': 'cs101'},\n",
    "                 'cs262': {'name': 'Programming Languages - Building a Web Browser',\n",
    "                           'teacher': 'Wes',\n",
    "                           'assistant': 'Peter C.',\n",
    "                           'prereq': 'cs101'},\n",
    "                 'cs373': {'name': 'Programming a Robotic Car',\n",
    "                           'teacher': 'Sebastian'},\n",
    "                 'cs387': {'name': 'Applied Cryptography',\n",
    "                           'teacher': 'Dave'}},\n",
    "    'spring2044': { 'cs001': {'name': 'Building a Quantum Holodeck',\n",
    "                           'teacher': 'Dorina'},\n",
    "                        'cs003': {'name': 'Programming a Robotic Robotics Teacher',\n",
    "                           'teacher': 'Jasper'},\n",
    "                     }\n",
    "    }\n"
   ]
  },
  {
   "cell_type": "code",
   "execution_count": null,
   "metadata": {},
   "outputs": [],
   "source": [
    "# prints keys and values together\n",
    "\n",
    "for key in courses:\n",
    "    print(key, ': ', courses[key])"
   ]
  },
  {
   "cell_type": "code",
   "execution_count": null,
   "metadata": {},
   "outputs": [],
   "source": [
    "# prints the keys\n",
    "\n",
    "for key in courses:\n",
    "    print(key)"
   ]
  },
  {
   "cell_type": "code",
   "execution_count": null,
   "metadata": {},
   "outputs": [],
   "source": [
    "# prints the values\n",
    "\n",
    "for key in courses:\n",
    "    print(courses[key])"
   ]
  },
  {
   "cell_type": "code",
   "execution_count": null,
   "metadata": {},
   "outputs": [],
   "source": [
    "# creates an iterable object (data_items) of keys and values together\n",
    "\n",
    "courses.items()"
   ]
  },
  {
   "cell_type": "code",
   "execution_count": null,
   "metadata": {},
   "outputs": [],
   "source": [
    "for item in courses.items():\n",
    "    print(item)\n",
    "    print(type(item))"
   ]
  },
  {
   "cell_type": "code",
   "execution_count": null,
   "metadata": {},
   "outputs": [],
   "source": [
    "def when_offeredV1(courses, course):\n",
    "    for item in list(courses.items()):\n",
    "        print(item)\n",
    "        offered = []\n",
    "        if course in item[1].keys():\n",
    "            print(item[0])\n",
    "            print(item[1])\n",
    "            offered = offered.append(item[0])\n",
    "        print(offered)\n",
    "#            return offered"
   ]
  },
  {
   "cell_type": "code",
   "execution_count": null,
   "metadata": {},
   "outputs": [],
   "source": [
    "# nested dictionaries - since the values were dictionaries themselves, values each have their own k, v \n",
    "\n",
    "for item in list(courses.values()):\n",
    "    print(item.keys())"
   ]
  },
  {
   "cell_type": "code",
   "execution_count": null,
   "metadata": {},
   "outputs": [],
   "source": [
    "for item in list(courses.items()):\n",
    "    print(type(item))"
   ]
  },
  {
   "cell_type": "code",
   "execution_count": null,
   "metadata": {},
   "outputs": [],
   "source": [
    "print(item[1])"
   ]
  },
  {
   "cell_type": "code",
   "execution_count": null,
   "metadata": {},
   "outputs": [],
   "source": [
    "courses.keys()"
   ]
  },
  {
   "cell_type": "code",
   "execution_count": 2,
   "metadata": {},
   "outputs": [
    {
     "data": {
      "text/plain": [
       "['spring2020', 'fall2020', 'spring2044']"
      ]
     },
     "execution_count": 2,
     "metadata": {},
     "output_type": "execute_result"
    }
   ],
   "source": [
    "# extracting a list of keys from a dictionary\n",
    "\n",
    "semesters = [item for item in list(courses.keys())]\n",
    "semesters"
   ]
  },
  {
   "cell_type": "code",
   "execution_count": 3,
   "metadata": {},
   "outputs": [
    {
     "data": {
      "text/plain": [
       "[['cs101', 'cs373'],\n",
       " ['cs101', 'cs212', 'cs253', 'cs262', 'cs373', 'cs387'],\n",
       " ['cs001', 'cs003']]"
      ]
     },
     "execution_count": 3,
     "metadata": {},
     "output_type": "execute_result"
    }
   ],
   "source": [
    "# extracting a list of keys from a nested dictionary where the values were tuples of keys and values\n",
    "\n",
    "courses_taught = [item.keys() for item in list(courses.values())]\n",
    "\n",
    "# creating a list of lists so I can use the following and the keys to create a new dictionary from which I can \n",
    "# extract desired info\n",
    "\n",
    "course_lists = [list(i) for i in courses_taught]\n",
    "course_lists"
   ]
  },
  {
   "cell_type": "code",
   "execution_count": 4,
   "metadata": {},
   "outputs": [
    {
     "data": {
      "text/plain": [
       "{'spring2020': ['cs101', 'cs373'],\n",
       " 'fall2020': ['cs101', 'cs212', 'cs253', 'cs262', 'cs373', 'cs387'],\n",
       " 'spring2044': ['cs001', 'cs003']}"
      ]
     },
     "execution_count": 4,
     "metadata": {},
     "output_type": "execute_result"
    }
   ],
   "source": [
    "# creating a dictionary from two lists (semesters and course_lists)\n",
    "\n",
    "my_dict = {} \n",
    "for key in semesters: \n",
    "    for value in course_lists: \n",
    "        my_dict[key] = value \n",
    "        course_lists.remove(value) \n",
    "        break \n",
    "my_dict"
   ]
  },
  {
   "cell_type": "code",
   "execution_count": 5,
   "metadata": {},
   "outputs": [
    {
     "data": {
      "text/plain": [
       "dict_values([['cs101', 'cs373'], ['cs101', 'cs212', 'cs253', 'cs262', 'cs373', 'cs387'], ['cs001', 'cs003']])"
      ]
     },
     "execution_count": 5,
     "metadata": {},
     "output_type": "execute_result"
    }
   ],
   "source": [
    "my_dict.values()"
   ]
  },
  {
   "cell_type": "code",
   "execution_count": 6,
   "metadata": {},
   "outputs": [],
   "source": [
    "# creating a function to churn through each item in the dictionary (my_dict) and get the keys (semesters) \n",
    "# for given values (courses)\n",
    "\n",
    "def when_offered(courses, course):\n",
    "    offered = []\n",
    "    j = 0\n",
    "    for key in my_dict.keys():\n",
    "        if course in my_dict[key]:\n",
    "            j += 1\n",
    "            offered.append(key)\n",
    "    return offered"
   ]
  },
  {
   "cell_type": "code",
   "execution_count": 8,
   "metadata": {},
   "outputs": [
    {
     "name": "stdout",
     "output_type": "stream",
     "text": [
      "['spring2020', 'fall2020']\n"
     ]
    }
   ],
   "source": [
    "print(when_offered(my_dict, 'cs101'))"
   ]
  },
  {
   "cell_type": "code",
   "execution_count": null,
   "metadata": {},
   "outputs": [],
   "source": [
    "%reset"
   ]
  }
 ],
 "metadata": {
  "kernelspec": {
   "display_name": "Python 3",
   "language": "python",
   "name": "python3"
  },
  "language_info": {
   "codemirror_mode": {
    "name": "ipython",
    "version": 3
   },
   "file_extension": ".py",
   "mimetype": "text/x-python",
   "name": "python",
   "nbconvert_exporter": "python",
   "pygments_lexer": "ipython3",
   "version": "3.7.6"
  }
 },
 "nbformat": 4,
 "nbformat_minor": 4
}
