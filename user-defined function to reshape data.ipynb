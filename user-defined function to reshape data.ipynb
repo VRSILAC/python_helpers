{
 "cells": [
  {
   "cell_type": "code",
   "execution_count": null,
   "metadata": {},
   "outputs": [],
   "source": [
    "%reset"
   ]
  },
  {
   "cell_type": "code",
   "execution_count": null,
   "metadata": {},
   "outputs": [],
   "source": [
    "import pandas as pd\n",
    "import numpy as np"
   ]
  },
  {
   "cell_type": "code",
   "execution_count": null,
   "metadata": {},
   "outputs": [],
   "source": [
    "data = pd.read_csv('bic_monthly_dollars_sellout.csv' , parse_dates = ['date'])"
   ]
  },
  {
   "cell_type": "code",
   "execution_count": null,
   "metadata": {},
   "outputs": [],
   "source": [
    "data.head()"
   ]
  },
  {
   "cell_type": "code",
   "execution_count": null,
   "metadata": {},
   "outputs": [],
   "source": [
    "for i in data.columns:\n",
    "    print(i)"
   ]
  },
  {
   "cell_type": "code",
   "execution_count": null,
   "metadata": {},
   "outputs": [],
   "source": [
    "'''\n",
    "US STA SHA BCI CLI EMP\n",
    "MX STA SHA BCI EMP\n",
    "BR STA SHA BCI CLI\n",
    "AR STA SHA\n",
    "'''"
   ]
  },
  {
   "cell_type": "code",
   "execution_count": null,
   "metadata": {},
   "outputs": [],
   "source": [
    "def reshape_data(df, selected_columns, my_id_var, series_id, column_name):\n",
    "    '''\n",
    "    This function takes a dataset, subsets it based on the country, \n",
    "    reshapes the data and writes out the file based on the country name.\n",
    "    \n",
    "    1) subset the dataset by country\n",
    "    2) reshape the data_subset \n",
    "    3) creates the file name by:\n",
    "        a) getting the column names for the subset\n",
    "        b) popping out the last column 'date'\n",
    "        c) splitting the column names to extract just the name of the country\n",
    "        d) concatnating the country name with a set suffix ('_sellout_dollars')\n",
    "    4) renameing and returning the reshaped dataset\n",
    "    '''\n",
    "    # 1) first select the columns from the dataset\n",
    "    \n",
    "    data_subset = df[selected_columns]\n",
    "    \n",
    "    # 2) reshape the subset data\n",
    "    \n",
    "    new_df = data_subset.melt(id_vars = my_id_var,\n",
    "                               var_name = series_id,\n",
    "                               value_name = column_name)\n",
    "    \n",
    "    # 3) create the file name\n",
    "    \n",
    "    name_prefix = []\n",
    "    column_names = list(data_subset.columns)\n",
    "    column_names.pop(-1)\n",
    "    \n",
    "    for item in column_names:\n",
    "        name_prefix.append(item.split()[0])\n",
    "        file_name_prefix = set(name_prefix)\n",
    " \n",
    "    # 4) renaming the dataframe\n",
    "    \n",
    "    new_df.name = str(file_name_prefix) + '_sellout_dollars' \n",
    "    \n",
    "    return new_df  "
   ]
  },
  {
   "cell_type": "code",
   "execution_count": null,
   "metadata": {},
   "outputs": [],
   "source": [
    "selected_columns_AR = ['AR STA', 'AR SHA', 'date']\n",
    "my_id_var = ['date']\n",
    "series_id = 'series_id'\n",
    "column_name = 'sellout_dollars'"
   ]
  },
  {
   "cell_type": "code",
   "execution_count": null,
   "metadata": {},
   "outputs": [],
   "source": [
    "AR_data = reshape_data(df = data,\n",
    "                       selected_columns = selected_columns_AR,\n",
    "                       my_id_var = my_id_var,\n",
    "                       series_id = series_id,\n",
    "                       column_name = column_name)"
   ]
  },
  {
   "cell_type": "code",
   "execution_count": null,
   "metadata": {},
   "outputs": [],
   "source": [
    "selected_columns_BR = ['BR STA', 'BR SHA', 'date']\n",
    "my_id_var = ['date']\n",
    "series_id = 'series_id'\n",
    "column_name = 'sellout_dollars'"
   ]
  },
  {
   "cell_type": "code",
   "execution_count": null,
   "metadata": {},
   "outputs": [],
   "source": [
    "BR_data = reshape_data(df = data,\n",
    "                       selected_columns = selected_columns_BR,\n",
    "                       my_id_var = my_id_var,\n",
    "                       series_id = series_id,\n",
    "                       column_name = column_name)"
   ]
  },
  {
   "cell_type": "code",
   "execution_count": null,
   "metadata": {},
   "outputs": [],
   "source": [
    "selected_columns_MX = ['MX STA', 'MX SHA', 'date']\n",
    "my_id_var = ['date']\n",
    "series_id = 'series_id'\n",
    "column_name = 'sellout_dollars'"
   ]
  },
  {
   "cell_type": "code",
   "execution_count": null,
   "metadata": {},
   "outputs": [],
   "source": [
    "MX_data = reshape_data(df = data,\n",
    "                       selected_columns = selected_columns_MX,\n",
    "                       my_id_var = my_id_var,\n",
    "                       series_id = series_id,\n",
    "                       column_name = column_name)"
   ]
  },
  {
   "cell_type": "code",
   "execution_count": null,
   "metadata": {},
   "outputs": [],
   "source": [
    "selected_columns_US = ['US STA', 'US SHA', 'date']\n",
    "my_id_var = ['date']\n",
    "series_id = 'series_id'\n",
    "column_name = 'sellout_dollars'"
   ]
  },
  {
   "cell_type": "code",
   "execution_count": null,
   "metadata": {},
   "outputs": [],
   "source": [
    "US_data = reshape_data(df = data,\n",
    "                       selected_columns = selected_columns_US,\n",
    "                       my_id_var = my_id_var,\n",
    "                       series_id = series_id,\n",
    "                       column_name = column_name)"
   ]
  },
  {
   "cell_type": "code",
   "execution_count": null,
   "metadata": {},
   "outputs": [],
   "source": [
    "list(US_data['series_id'].unique())"
   ]
  },
  {
   "cell_type": "code",
   "execution_count": null,
   "metadata": {},
   "outputs": [],
   "source": [
    "US_column_to_be_added = data[['US BCI', 'US CLI', 'US UNEMP RATE', 'date']]\n",
    "US_merged_data = pd.merge(US_data, US_column_to_be_added, on = 'date', how = 'left')\n",
    "US_merged_data.rename(columns = {'US UNEMP RATE': 'emp', \n",
    "                                 'US BCI': 'BCI',\n",
    "                                 'US CLI': 'CLI'}, \n",
    "                      inplace = True)\n",
    "US_merged_data.to_csv('BIC_US_sellout_dollars.csv', encoding = 'utf8', index = False)"
   ]
  },
  {
   "cell_type": "code",
   "execution_count": null,
   "metadata": {},
   "outputs": [],
   "source": [
    "MX_column_to_be_added = data[['MX BCI', 'MX UNEMP RATE', 'date']]\n",
    "MX_merged_data = pd.merge(MX_data, MX_column_to_be_added, on = 'date', how = 'left')\n",
    "MX_merged_data.rename(columns = {'MX UNEMP RATE': 'emp',\n",
    "                                 'MX BCI': 'BCI'}, \n",
    "                      inplace = True)\n",
    "MX_merged_data.to_csv('BIC_MX_sellout_dollars.csv', encoding = 'utf8', index = False)"
   ]
  },
  {
   "cell_type": "code",
   "execution_count": null,
   "metadata": {},
   "outputs": [],
   "source": [
    "BR_column_to_be_added = data[['BR BCI', 'BR CLI', 'date']]\n",
    "BR_merged_data = pd.merge(BR_data, BR_column_to_be_added, on = 'date', how = 'left')\n",
    "BR_merged_data.rename(columns = {'BR BCI': 'BCI',\n",
    "                                 'BR CLI': 'CLI'}, \n",
    "                      inplace = True)\n",
    "BR_merged_data.to_csv('BIC_BR_sellout_dollars.csv', encoding = 'utf8', index = False)"
   ]
  },
  {
   "cell_type": "code",
   "execution_count": null,
   "metadata": {},
   "outputs": [],
   "source": [
    "AR_data.to_csv('BIC_AR_sellout_dollars.csv', encoding = 'utf8', index = False)"
   ]
  },
  {
   "cell_type": "code",
   "execution_count": null,
   "metadata": {},
   "outputs": [],
   "source": [
    "# US and MX data\n",
    "\n",
    "US_MX_data = US_data.append(pd.DataFrame(data = MX_merged_data), ignore_index=True)\n",
    "\n",
    "US_MX_data.shape"
   ]
  },
  {
   "cell_type": "code",
   "execution_count": null,
   "metadata": {},
   "outputs": [],
   "source": [
    "# AR and BR data\n",
    "\n",
    "AR_BR_data = AR_data.append(pd.DataFrame(data = BR_data), ignore_index=True)\n",
    "\n",
    "US_MX_data.shape"
   ]
  },
  {
   "cell_type": "code",
   "execution_count": null,
   "metadata": {},
   "outputs": [],
   "source": [
    "AR_BR_data"
   ]
  },
  {
   "cell_type": "code",
   "execution_count": null,
   "metadata": {},
   "outputs": [],
   "source": [
    "US_MX_data.to_csv('US_MX_sellout_dollars_data_BIC.csv', encoding = 'utf8', index = False)\n",
    "AR_BR_data.to_csv('AR_BR_sellout_dollars_data_BIC.csv', encoding = 'utf8', index = False)"
   ]
  },
  {
   "cell_type": "code",
   "execution_count": null,
   "metadata": {},
   "outputs": [],
   "source": [
    "alldfs = [var for var in dir() if isinstance(eval(var), pd.core.frame.DataFrame)]\n",
    "\n",
    "print(alldfs) \n"
   ]
  },
  {
   "cell_type": "code",
   "execution_count": null,
   "metadata": {},
   "outputs": [],
   "source": [
    "for series_id, seriesdata in US_data.groupby('series_id'):\n",
    "    break"
   ]
  },
  {
   "cell_type": "code",
   "execution_count": null,
   "metadata": {},
   "outputs": [],
   "source": [
    "seriesdata"
   ]
  },
  {
   "cell_type": "code",
   "execution_count": null,
   "metadata": {},
   "outputs": [],
   "source": [
    "US_data.groupby('series_id').get_group('US STA')"
   ]
  }
 ],
 "metadata": {
  "kernelspec": {
   "display_name": "Python 3",
   "language": "python",
   "name": "python3"
  },
  "language_info": {
   "codemirror_mode": {
    "name": "ipython",
    "version": 3
   },
   "file_extension": ".py",
   "mimetype": "text/x-python",
   "name": "python",
   "nbconvert_exporter": "python",
   "pygments_lexer": "ipython3",
   "version": "3.7.6"
  }
 },
 "nbformat": 4,
 "nbformat_minor": 4
}
