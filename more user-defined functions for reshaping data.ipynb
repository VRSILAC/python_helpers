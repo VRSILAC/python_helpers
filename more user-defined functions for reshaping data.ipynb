{
 "cells": [
  {
   "cell_type": "code",
   "execution_count": null,
   "metadata": {},
   "outputs": [],
   "source": [
    "# USA_ST OIS USA_LI OIS USA_LI Pocket USA_LI Utility USA_SH OIS \" \" USA_GDP USA_UNEMP USA_BCI USA_CCI USA_CLI USA_BTS\n",
    "# FRA_ST OIS FRA_LI OIS FRA_LI Pocket FRA_LI Utility FRA_SH OIS \" \" FRA_GDP FRA_UNEMP FRA_BCI FRA_CCI FRA_CLI FRA_BTS\n",
    "# BRA_ST OIS BRA_LI OIS BRA_LI Pocket BRA_LI Utility BRA_SH OIS \" \" BRA_GDP BRA_UNEMP BRA_BCI BRA_CCI BRA_CLI BRA_BTS\n",
    "# MEX_ST OIS MEX_LI OIS MEX_LI Pocket MEX_LI Utility MEX_SH OIS \" \" MEX_GDP MEX_UNEMP MEX_BCI MEX_CCI MEX_CLI MEX_BTS\n",
    "# ITA_ST OIS ITA_LI OIS ITA_LI Pocket ITA_LI Utility ITA_SH OIS \" \" ITA_GDP ITA_UNEMP ITA_BCI ITA_CCI ITA_CLI ITA_BTS\n",
    "# SPA_ST OIS SPA_LI OIS SPA_LI Pocket SPA_LI Utility SPA_SH OIS \" \" SPA_GDP SPA_UNEMP SPA_BCI SPA_CCI SPA_CLI SPA_BTS\n",
    "# GER_ST OIS GER_LI OIS GER_LI Pocket GER_LI Utility GER_SH OIS \" \" GER_GDP GER_UNEMP GER_BCI GER_CCI GER_CLI GER_BTS\n",
    "# CAN_ST OIS CAN_LI OIS CAN_LI Pocket CAN_LI Utility CAN_SH OIS \" \" CAN_GDP CAN_UNEMP CAN_BCI CAN_CCI CAN_CLI CAN_BTS\n",
    "# AUS_ST OIS AUS_LI OIS AUS_LI Pocket AUS_LI Utility AUS_SH OIS \" \" AUS_GDP AUS_UNEMP AUS_BCI AUS_CCI AUS_CLI AUS_BTS\n",
    "# UK_ST OIS UK_LI OIS UK_LI Pocket UK_LI Utility UK_SH OIS \" \" UK_GDP UK_UNEMP UK_BCI UK_CCI UK_CLI UK_BTS\n",
    "\n",
    "\n",
    "# SAF_ST OIS SAF_LI OIS SAF_LI Pocket SAF_LI Utility SAF_SH OIS \" \" SAF_GDP SAF_UNEMP SAF_BCI SAF_CLI SAF_BTS\n",
    "# RUS_ST OIS RUS_LI OIS RUS_LI Pocket RUS_LI Utility RUS_SH OIS \" \" RUS_GDP RUS_UNEMP RUS_BCI RUS_CLI RUS_BTS\n",
    "\n",
    "# POL_ST OIS POL_LI OIS POL_LI Pocket POL_LI Utility POL_SH OIS \" \" POL_GDP POL_UNEMP POL_BCI POL_CCI\n",
    "\n",
    "# CEL_ST OIS  \" \" CEL_GDP CEL_BCI - ignored this because has 35 zeros at the beginning of the series"
   ]
  },
  {
   "cell_type": "code",
   "execution_count": null,
   "metadata": {},
   "outputs": [],
   "source": [
    "import pandas as pd\n",
    "import numpy as np"
   ]
  },
  {
   "cell_type": "code",
   "execution_count": null,
   "metadata": {},
   "outputs": [],
   "source": [
    "# quarterly data\n",
    "\n",
    "quarterly = pd.read_csv('quarterly_data_for_datarobot.csv', \n",
    "                        header = [0, 1])"
   ]
  },
  {
   "cell_type": "code",
   "execution_count": null,
   "metadata": {},
   "outputs": [],
   "source": [
    "quarterly.head()"
   ]
  },
  {
   "cell_type": "code",
   "execution_count": null,
   "metadata": {},
   "outputs": [],
   "source": [
    "# getting multiindex col names as multiindex\n",
    "\n",
    "mi = quarterly.columns\n",
    "mi"
   ]
  },
  {
   "cell_type": "code",
   "execution_count": null,
   "metadata": {},
   "outputs": [],
   "source": [
    "# concatenating the first and the second indexes\n",
    "\n",
    "ind = pd.Index([e[0] + '_' + e[1] for e in mi.tolist()])\n",
    "ind"
   ]
  },
  {
   "cell_type": "code",
   "execution_count": null,
   "metadata": {},
   "outputs": [],
   "source": [
    "# renaming the columns as the concatenated columns\n",
    "\n",
    "quarterly.columns = ind"
   ]
  },
  {
   "cell_type": "code",
   "execution_count": null,
   "metadata": {},
   "outputs": [],
   "source": [
    "# creating a country column to use in merging the macroeconomic columns later\n",
    "\n",
    "country_group1 = ['USA', 'FRA', 'BRA', 'MEX', 'ITA', 'SPA', 'GER', 'CAN', 'AUS', 'UK']\n",
    "country_group2 = ['SAF', 'RUS']\n",
    "\n",
    "# creating a list of repeated country names so that I can add that list as a column in the dataframe. The column\n",
    "# will be later used to merge the macroeconomic columns by date and country because each country has different\n",
    "# macroeconomic numbers\n",
    "\n",
    "country_group1_list = list(np.repeat(country_group1, (quarterly.shape[0] * 5)))\n",
    "country_group2_list = list(np.repeat(country_group2, (quarterly.shape[0] * 5)))"
   ]
  },
  {
   "cell_type": "code",
   "execution_count": null,
   "metadata": {},
   "outputs": [],
   "source": [
    "# renaming the date column\n",
    "\n",
    "quarterly.rename(columns = {'quarterly_Unnamed: 0_level_1': 'quarterly_date'}, inplace = True)"
   ]
  },
  {
   "cell_type": "code",
   "execution_count": null,
   "metadata": {},
   "outputs": [],
   "source": [
    "# creating a list so that it's easier for me to copy and paste\n",
    "\n",
    "list(quarterly.columns)"
   ]
  },
  {
   "cell_type": "code",
   "execution_count": null,
   "metadata": {},
   "outputs": [],
   "source": [
    "def reshape_data(df, selected_columns, my_id_var, series_id, column_name):\n",
    "    '''\n",
    "    This function takes a dataset, subsets it based on the country, \n",
    "    reshapes the data and writes out the file based on the country name.\n",
    "    \n",
    "    1) subset the dataset by country\n",
    "    2) reshape the data_subset \n",
    "    3) creates the file name by:\n",
    "        a) getting the column names for the subset\n",
    "        b) popping out the last column 'date'\n",
    "        c) splitting the column names to extract just the name of the country\n",
    "        d) concatnating the country name with a set suffix ('_sellout_dollars')\n",
    "    4) renameing and returning the reshaped dataset\n",
    "    '''\n",
    "    # 1) first select the columns from the dataset\n",
    "    \n",
    "    data_subset = df[selected_columns]\n",
    "    \n",
    "    # 2) reshape the subset data\n",
    "    \n",
    "    new_df = data_subset.melt(id_vars = my_id_var,\n",
    "                               var_name = series_id,\n",
    "                               value_name = column_name)\n",
    "    \n",
    "    # 3) create the file name\n",
    "    \n",
    "    name_prefix = []\n",
    "    column_names = list(data_subset.columns)\n",
    "    column_names.pop(0)\n",
    "    \n",
    "    for item in column_names:\n",
    "        name_prefix.append(item.split()[0])\n",
    "        file_name_prefix = set(name_prefix)\n",
    " \n",
    "    # 4) renaming the dataframe\n",
    "    \n",
    "    new_df.name = str(file_name_prefix) + '_quarterly_dollars' \n",
    "    \n",
    "    return new_df  "
   ]
  },
  {
   "cell_type": "code",
   "execution_count": null,
   "metadata": {},
   "outputs": [],
   "source": [
    "selected_columns_group1 = [  'quarterly_date',\n",
    "                             'USA_ST OIS',\n",
    "                             'USA_LI OIS',\n",
    "                             'USA_LI Pocket',\n",
    "                             'USA_LI Utility',\n",
    "                             'USA_SH OIS ',\n",
    "                             'FRA_ST OIS',\n",
    "                             'FRA_LI OIS',\n",
    "                             'FRA_LI Pocket',\n",
    "                             'FRA_LI Utility',\n",
    "                             'FRA_SH OIS ',\n",
    "                             'BRA_ST OIS',\n",
    "                             'BRA_LI OIS',\n",
    "                             'BRA_LI Pocket',\n",
    "                             'BRA_LI Utility',\n",
    "                             'BRA_SH OIS ',\n",
    "                             'MEX_ST OIS',\n",
    "                             'MEX_LI OIS',\n",
    "                             'MEX_LI Pocket',\n",
    "                             'MEX_LI Utility',\n",
    "                             'MEX_SH OIS ',\n",
    "                             'ITA_ST OIS',\n",
    "                             'ITA_LI OIS',\n",
    "                             'ITA_LI Pocket',\n",
    "                             'ITA_LI Utility',\n",
    "                             'ITA_SH OIS ',\n",
    "                             'SPA_ST OIS',\n",
    "                             'SPA_LI OIS',\n",
    "                             'SPA_LI Pocket',\n",
    "                             'SPA_LI Utility',\n",
    "                             'SPA_SH OIS ',\n",
    "                             'GER_ST OIS',\n",
    "                             'GER_LI OIS',\n",
    "                             'GER_LI Pocket',\n",
    "                             'GER_LI Utility',\n",
    "                             'GER_SH OIS ',\n",
    "                             'CAN_ST OIS',\n",
    "                             'CAN_LI OIS',\n",
    "                             'CAN_LI Pocket',\n",
    "                             'CAN_LI Utility',\n",
    "                             'CAN_SH OIS ',\n",
    "                             'AUS_ST OIS',\n",
    "                             'AUS_LI OIS',\n",
    "                             'AUS_LI Pocket',\n",
    "                             'AUS_LI Utility',\n",
    "                             'AUS_SH OIS ',\n",
    "                             'UK_ST OIS',\n",
    "                             'UK_LI OIS',\n",
    "                             'UK_LI Pocket',\n",
    "                             'UK_LI Utility',\n",
    "                             'UK_SH OIS ']\n",
    "\n",
    "my_id_var = ['quarterly_date'] \n",
    "series_id = 'series_id' \n",
    "column_name = 'dollars'"
   ]
  },
  {
   "cell_type": "code",
   "execution_count": null,
   "metadata": {},
   "outputs": [],
   "source": [
    "group1_dollars = reshape_data(df = quarterly,\n",
    "                               selected_columns = selected_columns_group1,\n",
    "                               my_id_var = my_id_var,\n",
    "                               series_id = series_id,\n",
    "                               column_name = column_name)"
   ]
  },
  {
   "cell_type": "code",
   "execution_count": null,
   "metadata": {},
   "outputs": [],
   "source": [
    "group1_dollars['country'] = country_group1_list"
   ]
  },
  {
   "cell_type": "code",
   "execution_count": null,
   "metadata": {},
   "outputs": [],
   "source": [
    "country_group1 = ['USA', 'FRA', 'BRA', 'MEX', 'ITA', 'SPA', 'GER', 'CAN', 'AUS', 'UK']\n",
    "country_group2 = ['SAF', 'RUS']\n",
    "\n",
    "\n",
    "selected_columns_group1_macro = ['quarterly_date',\n",
    "                                 'USA_GDP',\n",
    "                                 'USA_UNEMP',\n",
    "                                 'USA_BCI',\n",
    "                                 'USA_CCI',\n",
    "                                 'USA_CLI',\n",
    "                                 'USA_BTS',\n",
    "                                 'FRA_GDP',\n",
    "                                 'FRA_UNEMP',\n",
    "                                 'FRA_BCI',\n",
    "                                 'FRA_CCI',\n",
    "                                 'FRA_CLI',\n",
    "                                 'FRA_BTS',\n",
    "                                 'BRA_GDP',\n",
    "                                 'BRA_UNEMP',\n",
    "                                 'BRA_BCI',\n",
    "                                 'BRA_CCI',\n",
    "                                 'BRA_CLI',\n",
    "                                 'BRA_BTS',\n",
    "                                 'MEX_GDP',\n",
    "                                 'MEX_UNEMP',\n",
    "                                 'MEX_BCI',\n",
    "                                 'MEX_CCI',\n",
    "                                 'MEX_CLI',\n",
    "                                 'MEX_BTS', \n",
    "                                 'ITA_GDP',\n",
    "                                 'ITA_UNEMP',\n",
    "                                 'ITA_BCI',\n",
    "                                 'ITA_CCI',\n",
    "                                 'ITA_CLI',\n",
    "                                 'ITA_BTS',\n",
    "                                 'SPA_GDP',\n",
    "                                 'SPA_UNEMP',\n",
    "                                 'SPA_BCI',\n",
    "                                 'SPA_CCI',\n",
    "                                 'SPA_CLI',\n",
    "                                 'SPA_BTS',\n",
    "                                 'GER_GDP',\n",
    "                                 'GER_UNEMP',\n",
    "                                 'GER_BCI',\n",
    "                                 'GER_CCI',\n",
    "                                 'GER_CLI',\n",
    "                                 'GER_BTS',\n",
    "                                 'CAN_GDP',\n",
    "                                 'CAN_UNEMP',\n",
    "                                 'CAN_BCI',\n",
    "                                 'CAN_CCI',\n",
    "                                 'CAN_CLI',\n",
    "                                 'CAN_BTS',\n",
    "                                 'AUS_GDP',\n",
    "                                 'AUS_UNEMP',\n",
    "                                 'AUS_BCI',\n",
    "                                 'AUS_CCI',\n",
    "                                 'AUS_CLI',\n",
    "                                 'AUS_BTS',\n",
    "                                 'UK_GDP',\n",
    "                                 'UK_UNEMP',\n",
    "                                 'UK_BCI',\n",
    "                                 'UK_CCI',\n",
    "                                 'UK_CLI',\n",
    "                                 'UK_BTS'\n",
    "                                ]"
   ]
  },
  {
   "cell_type": "code",
   "execution_count": null,
   "metadata": {},
   "outputs": [],
   "source": [
    "country_group1 = ['USA', 'FRA', 'BRA', 'MEX', 'ITA', 'SPA', 'GER', 'CAN', 'AUS', 'UK']\n",
    "macro_group1 = ['GDP', 'UNEMP', 'BCI', 'CCI', 'CLI', 'BTS']\n",
    "\n",
    "def combi(lst1, lst2):\n",
    "    '''\n",
    "    This function takes two lists and returns a list of lists.\n",
    "    Where each sublist is a combination of each element from \n",
    "    each list and returns a list for each element of the first list.\n",
    "    '''\n",
    "    final_list = []\n",
    "    for i in lst1:\n",
    "            new_list = ['quarterly_date']\n",
    "            for j in lst2:\n",
    "                new_list.append(i + '_' + j)\n",
    "            final_list.append(new_list)\n",
    "    return final_list\n",
    "    \n",
    "final_list = combi(country_group1, macro_group1)"
   ]
  },
  {
   "cell_type": "code",
   "execution_count": null,
   "metadata": {},
   "outputs": [],
   "source": [
    "final_list"
   ]
  },
  {
   "cell_type": "code",
   "execution_count": null,
   "metadata": {},
   "outputs": [],
   "source": [
    "# take the full dataset\n",
    "# subset using the list that you prepared above\n",
    "# add the country column\n",
    "# change the name of the features\n",
    "# concatenate all datasets\n",
    "\n",
    "\n",
    "group1_macros = []\n",
    "def reshape_macro_data(df, final_list):\n",
    "    '''\n",
    "    1) This function takes a dataset and a list of lists\n",
    "    2) Filters the original dataset based on each list in the list of lists (final_list)\n",
    "    3) Renames the columns based on the first part of the second element in the sublist\n",
    "       - the first element of the sublist is a date. So the second element is split and \n",
    "         the first part of the second element is used to construct the names of the features\n",
    "         in the dataset.\n",
    "    4) Adds a country column to the created dataset by using the above split\n",
    "    5) Appends the dataset to an empty list\n",
    "    6) Then concatenates all the created datasets to return one final dataset\n",
    "    '''\n",
    "    for sublist in finalList:\n",
    "        data_subset = df.filter(items = sublist)\n",
    "        data_subset.rename(columns = {sublist[1].split('_')[0] + '_' + 'GDP'  : 'GDP', \n",
    "                                      sublist[1].split('_')[0] + '_' + 'UNEMP': 'EMP',\n",
    "                                      sublist[1].split('_')[0] + '_' + 'BCI'  : 'BCI',\n",
    "                                      sublist[1].split('_')[0] + '_' + 'CCI'  : 'CCI',\n",
    "                                      sublist[1].split('_')[0] + '_' + 'CLI'  : 'CLI',\n",
    "                                      sublist[1].split('_')[0] + '_' + 'BTS'  : 'BTS',\n",
    "                                     },\n",
    "                           inplace = True)\n",
    "        data_subset['country'] = sublist[1].split('_')[0]\n",
    "        group1_macros.append(data_subset)\n",
    "        final = pd.concat(group1_macros, ignore_index = True)\n",
    "    return final"
   ]
  },
  {
   "cell_type": "code",
   "execution_count": null,
   "metadata": {},
   "outputs": [],
   "source": [
    "# reshaping the macros data\n",
    "\n",
    "macros_data = reshape_macro_data(quarterly, final_list)\n"
   ]
  },
  {
   "cell_type": "code",
   "execution_count": null,
   "metadata": {},
   "outputs": [],
   "source": [
    "# merging the sales data and macros data by date and country\n",
    "\n",
    "merged_data = pd.merge(group1_data, macros_data, on = ['quarterly_date', 'country'], how = 'left')\n",
    "merged_data.shape"
   ]
  },
  {
   "cell_type": "code",
   "execution_count": null,
   "metadata": {},
   "outputs": [],
   "source": [
    "merged_data.to_csv('quarterly_dollars_10_countries.csv', index = False, encoding = 'utf8')"
   ]
  },
  {
   "cell_type": "code",
   "execution_count": null,
   "metadata": {},
   "outputs": [],
   "source": []
  }
 ],
 "metadata": {
  "kernelspec": {
   "display_name": "Python 3",
   "language": "python",
   "name": "python3"
  },
  "language_info": {
   "codemirror_mode": {
    "name": "ipython",
    "version": 3
   },
   "file_extension": ".py",
   "mimetype": "text/x-python",
   "name": "python",
   "nbconvert_exporter": "python",
   "pygments_lexer": "ipython3",
   "version": "3.7.6"
  }
 },
 "nbformat": 4,
 "nbformat_minor": 4
}
