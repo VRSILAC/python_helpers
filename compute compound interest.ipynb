{
 "cells": [
  {
   "cell_type": "code",
   "execution_count": 1,
   "metadata": {},
   "outputs": [],
   "source": [
    "def invest(amount, rate, years, times):\n",
    "    \"\"\"\n",
    "    This function computes and prints out final amount\n",
    "    every year computed as a compounded principal.\n",
    "    \n",
    "    amount = principal, \n",
    "    rate = interest rate\n",
    "    years = number of years the amount is allowed\n",
    "    to grow, \n",
    "    times = the number of times the interest\n",
    "    compounds during the year\n",
    "    \"\"\"\n",
    "    for n in range(1, years+1):\n",
    "        final = amount * ((1 + rate / times) ** (times * n))\n",
    "        print(f\"years {n}: ${final: 0.2f}\")\n",
    "        years = years + 1"
   ]
  },
  {
   "cell_type": "code",
   "execution_count": 2,
   "metadata": {},
   "outputs": [
    {
     "name": "stdout",
     "output_type": "stream",
     "text": [
      "years 1: $ 105.00\n",
      "years 2: $ 110.25\n",
      "years 3: $ 115.76\n",
      "years 4: $ 121.55\n"
     ]
    }
   ],
   "source": [
    "invest(amount = 100, rate = .05, years = 4, times = 1)"
   ]
  }
 ],
 "metadata": {
  "kernelspec": {
   "display_name": "Python 3",
   "language": "python",
   "name": "python3"
  },
  "language_info": {
   "codemirror_mode": {
    "name": "ipython",
    "version": 3
   },
   "file_extension": ".py",
   "mimetype": "text/x-python",
   "name": "python",
   "nbconvert_exporter": "python",
   "pygments_lexer": "ipython3",
   "version": "3.7.6"
  }
 },
 "nbformat": 4,
 "nbformat_minor": 4
}
