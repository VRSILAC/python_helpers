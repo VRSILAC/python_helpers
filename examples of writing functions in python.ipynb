{
 "cells": [
  {
   "cell_type": "code",
   "execution_count": 1,
   "metadata": {},
   "outputs": [],
   "source": [
    "def sum_of_all_even_numbers(number):\n",
    "    '''\n",
    "    The following function returns the sum\n",
    "    of all even numbers up to the number entered.\n",
    "    '''\n",
    "    sum_of_even_numbers = 0\n",
    "    for i in range(1, number):\n",
    "        if i % 2 == 0:\n",
    "            sum_of_even_numbers += i\n",
    "    return f'The sum of all even numbers under {number} is: {sum_of_even_numbers}'       "
   ]
  },
  {
   "cell_type": "code",
   "execution_count": 2,
   "metadata": {},
   "outputs": [
    {
     "name": "stdout",
     "output_type": "stream",
     "text": [
      "The sum of all even numbers under 7 is: 12\n"
     ]
    }
   ],
   "source": [
    "print(sum_of_all_even_numbers(7))"
   ]
  },
  {
   "cell_type": "code",
   "execution_count": 3,
   "metadata": {},
   "outputs": [],
   "source": [
    "def not_multiples_of_3(number):\n",
    "    '''\n",
    "    This function loops over all the numbers up to\n",
    "    the number given and prints out numbers in a list\n",
    "    that are NOT a multiple of 3. \n",
    "    \n",
    "    The main focus of this function is to show the \n",
    "    usage of 'continue' command in a function.\n",
    "    '''\n",
    "    \n",
    "    desired_list = []\n",
    "    for i in range(number + 1):\n",
    "        if i % 3 == 0:\n",
    "            continue\n",
    "        desired_list.append(i)\n",
    "    return f'All the numbers that are NOT multiples of 3 are in this list: {desired_list}'"
   ]
  },
  {
   "cell_type": "code",
   "execution_count": 4,
   "metadata": {},
   "outputs": [
    {
     "name": "stdout",
     "output_type": "stream",
     "text": [
      "All the numbers that are NOT multiples of 3 are in this list: [1, 2, 4, 5, 7, 8, 10, 11, 13, 14, 16, 17, 19, 20, 22, 23, 25, 26, 28, 29, 31, 32, 34, 35, 37, 38, 40, 41, 43, 44, 46, 47, 49, 50]\n"
     ]
    }
   ],
   "source": [
    "print(not_multiples_of_3(50))"
   ]
  }
 ],
 "metadata": {
  "kernelspec": {
   "display_name": "Python 3",
   "language": "python",
   "name": "python3"
  },
  "language_info": {
   "codemirror_mode": {
    "name": "ipython",
    "version": 3
   },
   "file_extension": ".py",
   "mimetype": "text/x-python",
   "name": "python",
   "nbconvert_exporter": "python",
   "pygments_lexer": "ipython3",
   "version": "3.7.6"
  }
 },
 "nbformat": 4,
 "nbformat_minor": 4
}
