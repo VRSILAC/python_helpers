{
 "cells": [
  {
   "cell_type": "code",
   "execution_count": 5,
   "metadata": {},
   "outputs": [
    {
     "name": "stdout",
     "output_type": "stream",
     "text": [
      "Enter the positive integer for which you want to find the factorial: 32\n",
      "2.631308e+35\n",
      "263130836933693530167218012160000000\n"
     ]
    }
   ],
   "source": [
    "# find the factorial of a number\n",
    "\n",
    "user_input = int(input('Enter the positive integer for which you want to find the factorial: '))\n",
    "\n",
    "factorial = 1\n",
    "\n",
    "while user_input > 0:\n",
    "    factorial *= user_input\n",
    "    user_input -= 1\n",
    "\n",
    "print(f'{factorial:e}')\n",
    "print(f'{factorial}')"
   ]
  },
  {
   "cell_type": "code",
   "execution_count": null,
   "metadata": {},
   "outputs": [],
   "source": []
  }
 ],
 "metadata": {
  "kernelspec": {
   "display_name": "Python 3",
   "language": "python",
   "name": "python3"
  },
  "language_info": {
   "codemirror_mode": {
    "name": "ipython",
    "version": 3
   },
   "file_extension": ".py",
   "mimetype": "text/x-python",
   "name": "python",
   "nbconvert_exporter": "python",
   "pygments_lexer": "ipython3",
   "version": "3.7.6"
  }
 },
 "nbformat": 4,
 "nbformat_minor": 4
}
