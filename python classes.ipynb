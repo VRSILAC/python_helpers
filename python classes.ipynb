{
 "cells": [
  {
   "cell_type": "markdown",
   "metadata": {},
   "source": [
    "### Parent and child classes in python"
   ]
  },
  {
   "cell_type": "code",
   "execution_count": null,
   "metadata": {},
   "outputs": [],
   "source": []
  },
  {
   "cell_type": "markdown",
   "metadata": {},
   "source": [
    "Defining a 'class' object. A python 'class' is used to define a user-defined \n",
    "data structure. A python 'class' defines user-defined functions called **method**. \n",
    "The **method** define what actions and behaviors the class instances can perform \n",
    "with its data.\n",
    "\n",
    "__init__ and __str__ are called **dunder methods**.\n",
    "\n",
    "A class is a blueprint for how something should be defined. It doesn't contain \n",
    "any data itself.\n",
    "\n",
    "A class can have a class attribute (species in the following Dog class) and it \n",
    "can have instance attributes such as description (__str__) and speak functions.\n",
    "\n",
    "Children (such as GoldenRetriever) inherit from the parent (Dog).\n",
    "\n",
    "Child class can either inherit or extend attribute from a parent class, meaning, \n",
    "a child inherits all the attributes from a parent but can also have its unique \n",
    "attributes.\n",
    "\n",
    "Any changes to the parent class will automatically propagate to the child class, \n",
    "unless that attribute is overwritten in the child class.\n",
    "\n",
    "\n",
    "Custom objects, such as a class are mutable."
   ]
  },
  {
   "cell_type": "code",
   "execution_count": 1,
   "metadata": {},
   "outputs": [],
   "source": [
    "class Dog:\n",
    "    # class method\n",
    "    species = 'Canis Familiaris'\n",
    "    \n",
    "    def __init__(self, name, age, coat_color):\n",
    "        self.name = name\n",
    "        self.age = age \n",
    "        self.coat_color = coat_color\n",
    "    \n",
    "    # instance method\n",
    "    def __str__(self):\n",
    "        return f'{self.name} is {self.age} years old and has {self.coat_color} coat!'\n",
    "        \n",
    "    # another instance method\n",
    "    def speak(self, sound):\n",
    "        return f'{self.name} says {sound}'\n",
    "\n",
    "# defining a child class\n",
    "class GoldenRetriever(Dog):\n",
    "    \n",
    "    # extending the attribute of a parent by giving the \n",
    "    # dog another sound, if the dog is an instance of the \n",
    "    # child class\n",
    "    \n",
    "    def speaks(self, sound):\n",
    "        return f'{self.name} says {sound}'"
   ]
  },
  {
   "cell_type": "code",
   "execution_count": 2,
   "metadata": {},
   "outputs": [],
   "source": [
    "# instantiating a class\n",
    "\n",
    "goldie = Dog('Goldie', 5, 'Red')"
   ]
  },
  {
   "cell_type": "code",
   "execution_count": 3,
   "metadata": {},
   "outputs": [
    {
     "data": {
      "text/plain": [
       "5"
      ]
     },
     "execution_count": 3,
     "metadata": {},
     "output_type": "execute_result"
    }
   ],
   "source": [
    "# getting the value of an instance attribute\n",
    "\n",
    "goldie.age"
   ]
  },
  {
   "cell_type": "code",
   "execution_count": 4,
   "metadata": {},
   "outputs": [
    {
     "data": {
      "text/plain": [
       "'Canis Familiaris'"
      ]
     },
     "execution_count": 4,
     "metadata": {},
     "output_type": "execute_result"
    }
   ],
   "source": [
    "# getting the value of a class attribute\n",
    "\n",
    "goldie.species"
   ]
  },
  {
   "cell_type": "code",
   "execution_count": 5,
   "metadata": {},
   "outputs": [
    {
     "data": {
      "text/plain": [
       "'Goldie says Woof Woof!'"
      ]
     },
     "execution_count": 5,
     "metadata": {},
     "output_type": "execute_result"
    }
   ],
   "source": [
    "# getting the value of a class attribute\n",
    "\n",
    "goldie.speak('Woof Woof!')"
   ]
  },
  {
   "cell_type": "code",
   "execution_count": 6,
   "metadata": {},
   "outputs": [
    {
     "name": "stdout",
     "output_type": "stream",
     "text": [
      "Goldie is 5 years old and has Red coat!\n"
     ]
    }
   ],
   "source": [
    "# getting the value of a class attribute\n",
    "\n",
    "print(goldie)"
   ]
  },
  {
   "cell_type": "code",
   "execution_count": 7,
   "metadata": {},
   "outputs": [
    {
     "data": {
      "text/plain": [
       "10"
      ]
     },
     "execution_count": 7,
     "metadata": {},
     "output_type": "execute_result"
    }
   ],
   "source": [
    "# changing the value of an instance attribute\n",
    "\n",
    "goldie.age = 10\n",
    "\n",
    "goldie.age"
   ]
  },
  {
   "cell_type": "code",
   "execution_count": 8,
   "metadata": {},
   "outputs": [
    {
     "name": "stdout",
     "output_type": "stream",
     "text": [
      "Goldie is 10 years old and has Red coat!\n"
     ]
    }
   ],
   "source": [
    "print(goldie)"
   ]
  },
  {
   "cell_type": "code",
   "execution_count": 9,
   "metadata": {},
   "outputs": [
    {
     "name": "stdout",
     "output_type": "stream",
     "text": [
      "Tripp is 7 years old and has Brown coat!\n"
     ]
    }
   ],
   "source": [
    "tripp = Dog('Tripp', 7, 'Brown')\n",
    "\n",
    "print(tripp)"
   ]
  },
  {
   "cell_type": "code",
   "execution_count": 10,
   "metadata": {},
   "outputs": [],
   "source": [
    "barley = GoldenRetriever('Barley', 6, 'Dirty blonde')"
   ]
  },
  {
   "cell_type": "code",
   "execution_count": 11,
   "metadata": {},
   "outputs": [
    {
     "name": "stdout",
     "output_type": "stream",
     "text": [
      "Barley is 6 years old and has Dirty blonde coat!\n"
     ]
    }
   ],
   "source": [
    "print(barley)"
   ]
  },
  {
   "cell_type": "code",
   "execution_count": 12,
   "metadata": {},
   "outputs": [
    {
     "data": {
      "text/plain": [
       "'Barley says Grff grff'"
      ]
     },
     "execution_count": 12,
     "metadata": {},
     "output_type": "execute_result"
    }
   ],
   "source": [
    "barley.speaks('Grff grff')"
   ]
  },
  {
   "cell_type": "code",
   "execution_count": null,
   "metadata": {},
   "outputs": [],
   "source": []
  },
  {
   "cell_type": "markdown",
   "metadata": {},
   "source": [
    "#### Another example of how to create and change a class"
   ]
  },
  {
   "cell_type": "code",
   "execution_count": 13,
   "metadata": {},
   "outputs": [],
   "source": [
    "# Another example of a python class\n",
    "\n",
    "class Car:\n",
    "    \n",
    "    vehicle = 'Four-wheeler'\n",
    "    \n",
    "    def __init__(self, color, mileage):\n",
    "        self.color = color\n",
    "        self.mileage = mileage\n",
    "        \n",
    "    def drive(self, miles):\n",
    "        self.mileage += miles\n",
    "        \n",
    "    def __str__(self):\n",
    "        return f'The {self.color} car has {self.mileage: ,} miles on it!'"
   ]
  },
  {
   "cell_type": "code",
   "execution_count": 14,
   "metadata": {},
   "outputs": [],
   "source": [
    "blue = Car('Blue', 20000)"
   ]
  },
  {
   "cell_type": "code",
   "execution_count": 15,
   "metadata": {},
   "outputs": [
    {
     "name": "stdout",
     "output_type": "stream",
     "text": [
      "The Blue car has  20,000 miles on it!\n"
     ]
    }
   ],
   "source": [
    "print(blue)"
   ]
  },
  {
   "cell_type": "code",
   "execution_count": 16,
   "metadata": {},
   "outputs": [
    {
     "name": "stdout",
     "output_type": "stream",
     "text": [
      "The Red car has  1,000 miles on it!\n"
     ]
    }
   ],
   "source": [
    "red = Car('Red', 1000)\n",
    "print(red)"
   ]
  },
  {
   "cell_type": "code",
   "execution_count": 17,
   "metadata": {},
   "outputs": [],
   "source": [
    "# calling a instance method on and instance\n",
    "\n",
    "Car.drive(red, miles = 100)"
   ]
  },
  {
   "cell_type": "code",
   "execution_count": 18,
   "metadata": {},
   "outputs": [
    {
     "name": "stdout",
     "output_type": "stream",
     "text": [
      "The Red car has  1,100 miles on it!\n"
     ]
    }
   ],
   "source": [
    "# now notice that the mileage of the car has changed from initial 1000 miles to 1100 miles\n",
    "\n",
    "print(red)"
   ]
  },
  {
   "cell_type": "code",
   "execution_count": null,
   "metadata": {},
   "outputs": [],
   "source": []
  },
  {
   "cell_type": "markdown",
   "metadata": {},
   "source": [
    "#### Yet, another example of creating a parent and a child classes"
   ]
  },
  {
   "cell_type": "markdown",
   "metadata": {},
   "source": [
    "The following example shows how to create a child class within a parent class. Here a child class inherits from the \n",
    "parent class. The method super().__init__ is used to overwrite the initialization of an instance in the child class. \n",
    "Note that the parent class Rectangle takes two arguments (width and length) but the child class takes only one argument (side_length). super().__init__ is used to override the two arguments requirement of the parent class."
   ]
  },
  {
   "cell_type": "code",
   "execution_count": 19,
   "metadata": {},
   "outputs": [],
   "source": [
    "class Rectangle:\n",
    "    \n",
    "    type_of_geometry = 'Area enclosed by four sides' \n",
    "    \n",
    "    def __init__(self, length, width):\n",
    "        self.length = length\n",
    "        self.width = width\n",
    "    \n",
    "    def area(self):\n",
    "        print(f'Area of the rectangle is {self.length*self.width: ,.2f}')\n",
    "    \n",
    "class Square(Rectangle):\n",
    "    \n",
    "    def __init__(self, side_length):\n",
    "        super().__init__(side_length, side_length)"
   ]
  },
  {
   "cell_type": "code",
   "execution_count": 20,
   "metadata": {},
   "outputs": [],
   "source": [
    "my_rectangle = Rectangle(4, 3)"
   ]
  },
  {
   "cell_type": "code",
   "execution_count": 21,
   "metadata": {},
   "outputs": [
    {
     "name": "stdout",
     "output_type": "stream",
     "text": [
      "Area of the rectangle is  12.00\n"
     ]
    }
   ],
   "source": [
    "my_rectangle.area()"
   ]
  },
  {
   "cell_type": "code",
   "execution_count": 22,
   "metadata": {},
   "outputs": [],
   "source": [
    "my_square = Square(4)"
   ]
  },
  {
   "cell_type": "code",
   "execution_count": 23,
   "metadata": {},
   "outputs": [
    {
     "name": "stdout",
     "output_type": "stream",
     "text": [
      "Area of the rectangle is  16.00\n"
     ]
    }
   ],
   "source": [
    "my_square.area()"
   ]
  },
  {
   "cell_type": "code",
   "execution_count": 24,
   "metadata": {},
   "outputs": [
    {
     "data": {
      "text/plain": [
       "'Area enclosed by four sides'"
      ]
     },
     "execution_count": 24,
     "metadata": {},
     "output_type": "execute_result"
    }
   ],
   "source": [
    "my_square.type_of_geometry"
   ]
  },
  {
   "cell_type": "code",
   "execution_count": null,
   "metadata": {},
   "outputs": [],
   "source": []
  }
 ],
 "metadata": {
  "kernelspec": {
   "display_name": "Python 3",
   "language": "python",
   "name": "python3"
  },
  "language_info": {
   "codemirror_mode": {
    "name": "ipython",
    "version": 3
   },
   "file_extension": ".py",
   "mimetype": "text/x-python",
   "name": "python",
   "nbconvert_exporter": "python",
   "pygments_lexer": "ipython3",
   "version": "3.7.6"
  }
 },
 "nbformat": 4,
 "nbformat_minor": 4
}
