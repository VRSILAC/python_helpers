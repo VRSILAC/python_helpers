{
 "cells": [
  {
   "cell_type": "code",
   "execution_count": null,
   "metadata": {},
   "outputs": [],
   "source": [
    "'''\n",
    "Defining a 'class' object. A python 'class' is used to define a user-defined data structure.\n",
    "A python 'class' defines user-defined functions called **method** . The **method** define\n",
    "what actions and behaviors the class instances can perform with its data.\n",
    "\n",
    "__init__ and __str__ are called **dunder methods**.\n",
    "\n",
    "A class is a blueprint for how something should be defined. It doesn't contain any data itself.\n",
    "\n",
    "A class can have a class attribute (species in the following Dog class) and it can have instance\n",
    "attributes such as description (__str__) and speak functions.\n",
    "\n",
    "Children (such as GoldenRetriever) inherit from the parent (Dog).\n",
    "\n",
    "Custom objects, such as a class are mutable.\n",
    "'''\n",
    "\n",
    "class Dog:\n",
    "    # class method\n",
    "    species = 'Canis Familiaris'\n",
    "    \n",
    "    def __init__(self, name, age, coat_color):\n",
    "        self.name = name\n",
    "        self.age = age \n",
    "        self.coat_color = coat_color\n",
    "    \n",
    "    # instance method\n",
    "    def __str__(self):\n",
    "        return f'{self.name} is {self.age} years old and has {self.coat_color} coat!'\n",
    "        \n",
    "    # another instance method\n",
    "    def speak(self, sound):\n",
    "        return f'{self.name} says {sound}'\n",
    "\n",
    "# defining a child class\n",
    "class GoldenRetriever(Dog):\n",
    "    \n",
    "    def speak(self):\n",
    "        return f'{Dog.name} says \"bark\"'"
   ]
  },
  {
   "cell_type": "code",
   "execution_count": null,
   "metadata": {},
   "outputs": [],
   "source": [
    "# instantiating a class\n",
    "\n",
    "goldie = Dog('Goldie', 5)"
   ]
  },
  {
   "cell_type": "code",
   "execution_count": null,
   "metadata": {},
   "outputs": [],
   "source": [
    "# getting the value of an instance attribute\n",
    "\n",
    "goldie.age"
   ]
  },
  {
   "cell_type": "code",
   "execution_count": null,
   "metadata": {},
   "outputs": [],
   "source": [
    "# getting the value of a class attribute\n",
    "\n",
    "goldie.species"
   ]
  },
  {
   "cell_type": "code",
   "execution_count": null,
   "metadata": {},
   "outputs": [],
   "source": [
    "# getting the value of a class attribute\n",
    "\n",
    "goldie.speak('Woof Woof!')"
   ]
  },
  {
   "cell_type": "code",
   "execution_count": null,
   "metadata": {},
   "outputs": [],
   "source": [
    "# getting the value of a class attribute\n",
    "\n",
    "print(goldie)"
   ]
  },
  {
   "cell_type": "code",
   "execution_count": null,
   "metadata": {},
   "outputs": [],
   "source": [
    "# changing the value of an instance attribute\n",
    "\n",
    "goldie.age = 10\n",
    "\n",
    "goldie.age"
   ]
  },
  {
   "cell_type": "code",
   "execution_count": null,
   "metadata": {},
   "outputs": [],
   "source": [
    "print(goldie)"
   ]
  },
  {
   "cell_type": "code",
   "execution_count": null,
   "metadata": {},
   "outputs": [],
   "source": [
    "tripp = Dog('Tripp', 7, 'Brown')\n",
    "\n",
    "print(tripp)"
   ]
  },
  {
   "cell_type": "code",
   "execution_count": null,
   "metadata": {},
   "outputs": [],
   "source": [
    "# Another example of a python class\n",
    "\n",
    "class Car:\n",
    "    \n",
    "    vehicle = 'Four-wheeler'\n",
    "    \n",
    "    def __init__(self, color, mileage):\n",
    "        self.color = color\n",
    "        self.mileage = mileage\n",
    "        \n",
    "    def drive(self, miles):\n",
    "        self.mileage += miles\n",
    "        \n",
    "    def __str__(self):\n",
    "        return f'The {self.color} car has {self.mileage: ,} miles on it!'"
   ]
  },
  {
   "cell_type": "code",
   "execution_count": null,
   "metadata": {},
   "outputs": [],
   "source": [
    "blue = Car('Blue', 20000)"
   ]
  },
  {
   "cell_type": "code",
   "execution_count": null,
   "metadata": {},
   "outputs": [],
   "source": [
    "print(blue)"
   ]
  },
  {
   "cell_type": "code",
   "execution_count": null,
   "metadata": {},
   "outputs": [],
   "source": [
    "red = Car('Red', 1000)\n",
    "print(red)"
   ]
  },
  {
   "cell_type": "code",
   "execution_count": null,
   "metadata": {},
   "outputs": [],
   "source": [
    "# calling a instance method on and instance\n",
    "\n",
    "Car.drive(red, miles = 100)"
   ]
  },
  {
   "cell_type": "code",
   "execution_count": null,
   "metadata": {},
   "outputs": [],
   "source": [
    "# now notice that the mileage of the car has changed from initial 1000 miles to 1100 miles\n",
    "\n",
    "print(red)"
   ]
  },
  {
   "cell_type": "code",
   "execution_count": null,
   "metadata": {},
   "outputs": [],
   "source": []
  }
 ],
 "metadata": {
  "kernelspec": {
   "display_name": "Python 3",
   "language": "python",
   "name": "python3"
  },
  "language_info": {
   "codemirror_mode": {
    "name": "ipython",
    "version": 3
   },
   "file_extension": ".py",
   "mimetype": "text/x-python",
   "name": "python",
   "nbconvert_exporter": "python",
   "pygments_lexer": "ipython3",
   "version": "3.7.6"
  }
 },
 "nbformat": 4,
 "nbformat_minor": 4
}
