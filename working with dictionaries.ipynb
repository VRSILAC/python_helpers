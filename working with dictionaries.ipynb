{
 "cells": [
  {
   "cell_type": "code",
   "execution_count": 1,
   "metadata": {},
   "outputs": [],
   "source": [
    "book_title =  ['great', 'expectations','the', 'adventures', 'of', 'sherlock','holmes','the','great','gasby','hamlet','adventures','of','huckleberry','fin']"
   ]
  },
  {
   "cell_type": "code",
   "execution_count": 2,
   "metadata": {},
   "outputs": [
    {
     "data": {
      "text/plain": [
       "{'great': 2,\n",
       " 'expectations': 1,\n",
       " 'the': 2,\n",
       " 'adventures': 2,\n",
       " 'of': 2,\n",
       " 'sherlock': 1,\n",
       " 'holmes': 1,\n",
       " 'gasby': 1,\n",
       " 'hamlet': 1,\n",
       " 'huckleberry': 1,\n",
       " 'fin': 1}"
      ]
     },
     "execution_count": 2,
     "metadata": {},
     "output_type": "execute_result"
    }
   ],
   "source": [
    "word_counter = {}\n",
    "\n",
    "for word in book_title:\n",
    "    if word not in word_counter:\n",
    "        word_counter[word] = 1\n",
    "    else:\n",
    "        word_counter[word] += 1\n",
    "        \n",
    "word_counter"
   ]
  },
  {
   "cell_type": "code",
   "execution_count": 5,
   "metadata": {},
   "outputs": [
    {
     "name": "stdout",
     "output_type": "stream",
     "text": [
      "23\n"
     ]
    }
   ],
   "source": [
    "# You would like to count the number of fruits in your basket. \n",
    "# In order to do this, you have the following dictionary and list of\n",
    "# fruits.  Use the dictionary and list to count the total number\n",
    "# of fruits, but you do not want to count the other items in your basket.\n",
    "\n",
    "result = 0\n",
    "basket_items = {'apples': 4, 'oranges': 19, 'kites': 3, 'sandwiches': 8}\n",
    "fruits = ['apples', 'oranges', 'pears', 'peaches', 'grapes', 'bananas']\n",
    "\n",
    "#Iterate through the dictionary\n",
    "for key in basket_items:\n",
    "    if key in fruits:\n",
    "        result += basket_items[key]\n",
    "\n",
    "print(result)"
   ]
  },
  {
   "cell_type": "code",
   "execution_count": 6,
   "metadata": {},
   "outputs": [
    {
     "name": "stdout",
     "output_type": "stream",
     "text": [
      "23 11\n"
     ]
    }
   ],
   "source": [
    "# You would like to count the number of fruits in your basket. \n",
    "# In order to do this, you have the following dictionary and list of\n",
    "# fruits.  Use the dictionary and list to count the total number\n",
    "# of fruits and not_fruits.\n",
    "\n",
    "fruit_count, not_fruit_count = 0, 0\n",
    "basket_items = {'apples': 4, 'oranges': 19, 'kites': 3, 'sandwiches': 8}\n",
    "fruits = ['apples', 'oranges', 'pears', 'peaches', 'grapes', 'bananas']\n",
    "\n",
    "for key in basket_items:\n",
    "    if key in fruits:\n",
    "        fruit_count += basket_items[key]\n",
    "    else:\n",
    "        not_fruit_count += basket_items[key]\n",
    "        \n",
    "print(fruit_count, not_fruit_count)"
   ]
  },
  {
   "cell_type": "code",
   "execution_count": null,
   "metadata": {},
   "outputs": [],
   "source": []
  }
 ],
 "metadata": {
  "kernelspec": {
   "display_name": "Python 3",
   "language": "python",
   "name": "python3"
  },
  "language_info": {
   "codemirror_mode": {
    "name": "ipython",
    "version": 3
   },
   "file_extension": ".py",
   "mimetype": "text/x-python",
   "name": "python",
   "nbconvert_exporter": "python",
   "pygments_lexer": "ipython3",
   "version": "3.7.6"
  }
 },
 "nbformat": 4,
 "nbformat_minor": 4
}
