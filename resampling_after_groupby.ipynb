{
 "cells": [
  {
   "cell_type": "code",
   "execution_count": 2,
   "metadata": {},
   "outputs": [],
   "source": [
    "import pandas as pd\n",
    "import numpy as np\n",
    "import datetime\n",
    "\n",
    "pd.set_option('display.max_columns', None)\n",
    "pd.set_option('display.max_rows', None)"
   ]
  },
  {
   "cell_type": "code",
   "execution_count": 3,
   "metadata": {},
   "outputs": [
    {
     "data": {
      "text/plain": [
       "(7140, 17)"
      ]
     },
     "execution_count": 3,
     "metadata": {},
     "output_type": "execute_result"
    }
   ],
   "source": [
    "sales = pd.read_csv('Sales_Multiseries_training.csv', parse_dates = True, low_memory = False)\n",
    "sales['Date'] = pd.to_datetime(sales['Date'])\n",
    "sales.shape"
   ]
  },
  {
   "cell_type": "code",
   "execution_count": 6,
   "metadata": {},
   "outputs": [
    {
     "data": {
      "text/plain": [
       "Store      Date      \n",
       "Baltimore  2012-07-31    1851749.91\n",
       "           2012-08-31    1847926.88\n",
       "           2012-09-30    1862358.75\n",
       "           2012-10-31    2130491.11\n",
       "           2012-11-30    2799458.53\n",
       "Name: Sales, dtype: float64"
      ]
     },
     "execution_count": 6,
     "metadata": {},
     "output_type": "execute_result"
    }
   ],
   "source": [
    "grouped1 = sales.set_index('Date').groupby(['Store'])['Sales'].resample('M').sum()\n",
    "grouped1.head()"
   ]
  },
  {
   "cell_type": "code",
   "execution_count": 7,
   "metadata": {},
   "outputs": [
    {
     "data": {
      "text/plain": [
       "Store      Date      \n",
       "Baltimore  2012-07-31    1851749.91\n",
       "           2012-08-31    1847926.88\n",
       "           2012-09-30    1862358.75\n",
       "           2012-10-31    2130491.11\n",
       "           2012-11-30    2799458.53\n",
       "Name: Sales, dtype: float64"
      ]
     },
     "execution_count": 7,
     "metadata": {},
     "output_type": "execute_result"
    }
   ],
   "source": [
    "grouped2 = sales.set_index('Date').groupby(['Store']).resample('M')['Sales'].sum()\n",
    "grouped2.head()"
   ]
  },
  {
   "cell_type": "code",
   "execution_count": 11,
   "metadata": {},
   "outputs": [
    {
     "data": {
      "text/plain": [
       "Store      Date      \n",
       "Baltimore  2012-07-31    1851749.91\n",
       "           2012-08-31    1847926.88\n",
       "           2012-09-30    1862358.75\n",
       "           2012-10-31    2130491.11\n",
       "           2012-11-30    2799458.53\n",
       "Name: Sales, dtype: float64"
      ]
     },
     "execution_count": 11,
     "metadata": {},
     "output_type": "execute_result"
    }
   ],
   "source": [
    "grouped3 = sales.groupby(['Store', pd.Grouper(key = 'Date', freq = 'M')])['Sales'].sum()\n",
    "grouped3.head()"
   ]
  },
  {
   "cell_type": "code",
   "execution_count": 12,
   "metadata": {},
   "outputs": [
    {
     "data": {
      "text/plain": [
       "Store      Date      \n",
       "Baltimore  2012-12-31    13812824.93\n",
       "           2013-12-31    26114494.35\n",
       "           2014-12-31    10221424.51\n",
       "Columbus   2012-12-31    14789693.73\n",
       "           2013-12-31    27961360.30\n",
       "Name: Sales, dtype: float64"
      ]
     },
     "execution_count": 12,
     "metadata": {},
     "output_type": "execute_result"
    }
   ],
   "source": [
    "grouped4 = sales.groupby(['Store', pd.Grouper(key = 'Date', freq = 'A-DEC')])['Sales'].sum()\n",
    "grouped4.head(5)"
   ]
  },
  {
   "cell_type": "code",
   "execution_count": null,
   "metadata": {},
   "outputs": [],
   "source": []
  }
 ],
 "metadata": {
  "kernelspec": {
   "display_name": "Python 3",
   "language": "python",
   "name": "python3"
  },
  "language_info": {
   "codemirror_mode": {
    "name": "ipython",
    "version": 3
   },
   "file_extension": ".py",
   "mimetype": "text/x-python",
   "name": "python",
   "nbconvert_exporter": "python",
   "pygments_lexer": "ipython3",
   "version": "3.7.3"
  }
 },
 "nbformat": 4,
 "nbformat_minor": 2
}
