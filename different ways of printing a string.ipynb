{
 "cells": [
  {
   "cell_type": "code",
   "execution_count": 16,
   "metadata": {},
   "outputs": [
    {
     "name": "stdout",
     "output_type": "stream",
     "text": [
      "['w']['w', 'o']['w', 'o', 'r']['w', 'o', 'r', 'd']"
     ]
    }
   ],
   "source": [
    "word = 'word'\n",
    "container = []\n",
    "for i in range(len(word)):\n",
    "    container.append(word[i])\n",
    "    print(container, end = \"\")"
   ]
  },
  {
   "cell_type": "code",
   "execution_count": 14,
   "metadata": {},
   "outputs": [
    {
     "name": "stdout",
     "output_type": "stream",
     "text": [
      "0 w\n",
      "1 o\n",
      "2 r\n",
      "3 d\n"
     ]
    }
   ],
   "source": [
    "for i in range(len(word)):\n",
    "    print(i, word[i])"
   ]
  },
  {
   "cell_type": "code",
   "execution_count": 15,
   "metadata": {},
   "outputs": [
    {
     "name": "stdout",
     "output_type": "stream",
     "text": [
      "word"
     ]
    }
   ],
   "source": [
    "for i in range(len(word)):\n",
    "    print(word[i], end = '')"
   ]
  },
  {
   "cell_type": "code",
   "execution_count": 24,
   "metadata": {},
   "outputs": [
    {
     "data": {
      "text/plain": [
       "\"h'e'l'l'o\""
      ]
     },
     "execution_count": 24,
     "metadata": {},
     "output_type": "execute_result"
    }
   ],
   "source": [
    "\"'\".join([\"h\",\"e\",\"l\",\"l\",\"o\"])"
   ]
  },
  {
   "cell_type": "code",
   "execution_count": 33,
   "metadata": {},
   "outputs": [],
   "source": [
    "def add_underscore1(word):\n",
    "    '''\n",
    "    The following code is intentionally wrong to show\n",
    "    how to use print debugger.\n",
    "    The print out shows the output value after every\n",
    "    iteration and the final output o_ in this case.\n",
    "    It shows that with each iteration, the output \n",
    "    new_word is overwritten each time, which we don't\n",
    "    want.\n",
    "    \n",
    "    '''\n",
    "    new_word = '_'\n",
    "    for i in range(len(word)):\n",
    "        new_word = word[i] + '_'\n",
    "        print(f'{i}: new_word = {new_word}')\n",
    "    return new_word"
   ]
  },
  {
   "cell_type": "code",
   "execution_count": 34,
   "metadata": {},
   "outputs": [
    {
     "name": "stdout",
     "output_type": "stream",
     "text": [
      "0: new_word = h_\n",
      "1: new_word = e_\n",
      "2: new_word = l_\n",
      "3: new_word = l_\n",
      "4: new_word = o_\n",
      "o_\n"
     ]
    }
   ],
   "source": [
    "print(add_underscore1(phrase))"
   ]
  },
  {
   "cell_type": "code",
   "execution_count": 29,
   "metadata": {},
   "outputs": [],
   "source": [
    "def add_underscore(word):\n",
    "    '''\n",
    "    The following code takes a word (string) \n",
    "    and adds an underscore before and after \n",
    "    every letter in the word.\n",
    "    '''\n",
    "    new_word = '_'\n",
    "    for i in range(0, len(word)):\n",
    "        new_word = new_word + word[i] + '_'\n",
    "    return new_word"
   ]
  },
  {
   "cell_type": "code",
   "execution_count": 30,
   "metadata": {},
   "outputs": [
    {
     "name": "stdout",
     "output_type": "stream",
     "text": [
      "_h_e_l_l_o_\n"
     ]
    }
   ],
   "source": [
    "phrase = 'hello'\n",
    "print(add_underscore(phrase))"
   ]
  },
  {
   "cell_type": "code",
   "execution_count": 35,
   "metadata": {},
   "outputs": [
    {
     "data": {
      "text/plain": [
       "False"
      ]
     },
     "execution_count": 35,
     "metadata": {},
     "output_type": "execute_result"
    }
   ],
   "source": [
    "123 == '123'"
   ]
  },
  {
   "cell_type": "code",
   "execution_count": 36,
   "metadata": {},
   "outputs": [
    {
     "data": {
      "text/plain": [
       "True"
      ]
     },
     "execution_count": 36,
     "metadata": {},
     "output_type": "execute_result"
    }
   ],
   "source": [
    "'jack' != 'jill'"
   ]
  },
  {
   "cell_type": "code",
   "execution_count": 56,
   "metadata": {},
   "outputs": [
    {
     "name": "stdout",
     "output_type": "stream",
     "text": [
      "Which sports are we talking about?: dishum dishum\n",
      "Enter the score of player 1: 54\n",
      "Enter the score of player 2: 34\n"
     ]
    }
   ],
   "source": [
    "sport = input('Which sports are we talking about?: ')\n",
    "score1 = int(input('Enter the score of player 1: '))\n",
    "score2 = int(input('Enter the score of player 2: '))"
   ]
  },
  {
   "cell_type": "code",
   "execution_count": 57,
   "metadata": {},
   "outputs": [
    {
     "name": "stdout",
     "output_type": "stream",
     "text": [
      "It's some fucking sports that I have never heard of!!!\n"
     ]
    }
   ],
   "source": [
    "if sport.lower() in ['basketball', 'golf'] and score1 == score2:\n",
    "    print('The game ended in a fucking draw!!!')\n",
    "elif sport.lower() == 'basketball':\n",
    "    if score1 > score2:\n",
    "        print('Player1 won the game of basketball')\n",
    "    else:\n",
    "        print('Player2 won the game of basketball')\n",
    "elif sport.lower() == 'golf':\n",
    "        if score1 > score2:\n",
    "            print('Player2 won the round of golf')\n",
    "        else:\n",
    "            print('Player1 won the round of golf')  \n",
    "else:\n",
    "    print(\"It's some fucking sports that I have never heard of!!!\")"
   ]
  },
  {
   "cell_type": "code",
   "execution_count": null,
   "metadata": {},
   "outputs": [],
   "source": []
  }
 ],
 "metadata": {
  "kernelspec": {
   "display_name": "Python 3",
   "language": "python",
   "name": "python3"
  },
  "language_info": {
   "codemirror_mode": {
    "name": "ipython",
    "version": 3
   },
   "file_extension": ".py",
   "mimetype": "text/x-python",
   "name": "python",
   "nbconvert_exporter": "python",
   "pygments_lexer": "ipython3",
   "version": "3.7.6"
  }
 },
 "nbformat": 4,
 "nbformat_minor": 4
}
