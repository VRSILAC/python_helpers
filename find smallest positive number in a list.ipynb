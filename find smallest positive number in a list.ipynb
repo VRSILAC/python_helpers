{
 "cells": [
  {
   "cell_type": "code",
   "execution_count": null,
   "metadata": {},
   "outputs": [],
   "source": [
    "%reset"
   ]
  },
  {
   "cell_type": "code",
   "execution_count": 3,
   "metadata": {},
   "outputs": [],
   "source": [
    "def positive(in_list):\n",
    "    '''\n",
    "    This function finds the smallest positive number \n",
    "    in a list of numbers. It works even when the list\n",
    "    is empty.\n",
    "    '''\n",
    "    positive_only = []\n",
    "    j = 0\n",
    "    for i in in_list:\n",
    "        if i >= 0:\n",
    "            j += 1\n",
    "            positive_only.append(i)\n",
    "            \n",
    "    # print(positive_only)\n",
    "    if len(positive_only) > 0:\n",
    "        # print(len(positive_only))\n",
    "        return min(positive_only)\n",
    "    else:\n",
    "        return"
   ]
  },
  {
   "cell_type": "code",
   "execution_count": 2,
   "metadata": {},
   "outputs": [
    {
     "name": "stdout",
     "output_type": "stream",
     "text": [
      "None\n",
      "2\n",
      "0.2\n",
      "11.17\n",
      "0.0\n"
     ]
    }
   ],
   "source": [
    "## Test cases\n",
    "\n",
    "print(positive([-6,-7]))\n",
    "print(positive([4, -6, 7, 2, -4, 10]))\n",
    "print(positive([5, 3, -.1, 7, 7, 6, 0.2]))\n",
    "print(positive([-3.53, -56.3, 99.22, 11.17, -25.21, 96.21, -44.62, 94.95, 65.85, 26.79, -88.16]))\n",
    "print(positive([88.22, -17.41, -26.53, 18.04, -44.81, 7.52, 0.0, 20.98, 11.76]))"
   ]
  },
  {
   "cell_type": "code",
   "execution_count": null,
   "metadata": {},
   "outputs": [],
   "source": []
  }
 ],
 "metadata": {
  "kernelspec": {
   "display_name": "Python 3",
   "language": "python",
   "name": "python3"
  },
  "language_info": {
   "codemirror_mode": {
    "name": "ipython",
    "version": 3
   },
   "file_extension": ".py",
   "mimetype": "text/x-python",
   "name": "python",
   "nbconvert_exporter": "python",
   "pygments_lexer": "ipython3",
   "version": "3.7.6"
  }
 },
 "nbformat": 4,
 "nbformat_minor": 4
}
