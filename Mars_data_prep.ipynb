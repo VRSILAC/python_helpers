{
 "cells": [
  {
   "cell_type": "code",
   "execution_count": 64,
   "metadata": {},
   "outputs": [],
   "source": [
    "import pandas as pd\n",
    "import numpy as np\n",
    "from tqdm import tqdm\n",
    "import matplotlib.pyplot as plt\n",
    "import seaborn as sns\n",
    "\n",
    "# set pandas configuration to show all columns\n",
    "pd.set_option('display.max_columns', None)"
   ]
  },
  {
   "cell_type": "code",
   "execution_count": 65,
   "metadata": {},
   "outputs": [],
   "source": [
    "def find_fill_missing_dates(df, aggregator, date_col, fill_cols, copy_val_cols= None, start= None, end= None, fill_value= np.nan, fill_val_dict= None):\n",
    "    '''\n",
    "    Identifies missing dates, fills missing dates with NaN\n",
    "    ----\n",
    "    inputs \n",
    "    df: Pandas DataFrame, \n",
    "    aggregator: aggregation column (string)\n",
    "    date_col: primary date-time column (string)\n",
    "    fill_cols: columns to include (list)\n",
    "    start (optional): start-date for zero-filling (date-time object)\n",
    "    end (optional): end-date for zero-filling (date-time object)\n",
    "    fill_value: default value to place in missing rows + cols (string, numeric, bool)\n",
    "    fill_val_dict: dictionary of column:fill_value for missing rows (dictionary)\n",
    "\n",
    "    ----\n",
    "    outputs: Pandas DataFrame\n",
    "    '''\n",
    "    new_df = pd.DataFrame()\n",
    "    for item in tqdm(df[aggregator].unique().tolist()):\n",
    "        data = df[df[aggregator] == item]\n",
    "        s = data[date_col].min()\n",
    "        e = data[date_col].max()\n",
    "        if start is not None:\n",
    "            s = start\n",
    "        if end is not None:\n",
    "            e = end\n",
    "        missing_dates = pd.DataFrame(pd.date_range(start = s, end = e).difference(data[date_col]), columns = [date_col])\n",
    "        missing_dates[aggregator] = item\n",
    "        for col in fill_cols:\n",
    "            if fill_val_dict is not None:\n",
    "                missing_dates[col] = fill_val_dict[col]\n",
    "            else:\n",
    "                missing_dates[col] = fill_value\n",
    "        data = data.append(missing_dates)\n",
    "        new_df = new_df.append(data)\n",
    "    return new_df.sort_values(date_col)"
   ]
  },
  {
   "cell_type": "code",
   "execution_count": 52,
   "metadata": {},
   "outputs": [],
   "source": [
    "def find_fill_missing_dates2(df, aggregator, date_col, fill_cols, copy_val_cols= None, start= None, end= None, fill_value= np.nan, fill_val_dict= None, donor_cols= None):\n",
    "    '''\n",
    "    Identifies missing dates, fills missing dates with NaN\n",
    "    ----\n",
    "    inputs \n",
    "    df: Pandas DataFrame, \n",
    "    aggregator: aggregation column (string)\n",
    "    date_col: primary date-time column (string)\n",
    "    fill_cols: columns to include (list)\n",
    "    start (optional): start-date for zero-filling (date-time object)\n",
    "    end (optional): end-date for zero-filling (date-time object)\n",
    "    fill_value: default value to place in missing rows + cols (string, numeric, bool)\n",
    "    fill_val_dict: dictionary of column:fill_value for missing rows (dictionary)\n",
    "\n",
    "    ----\n",
    "    outputs: Pandas DataFrame\n",
    "    '''\n",
    "    new_df = pd.DataFrame()\n",
    "    for item in tqdm(df[aggregator].unique().tolist()):\n",
    "        data = df[df[aggregator] == item]\n",
    "        s = data[date_col].min()\n",
    "        e = data[date_col].max()\n",
    "        if start is not None:\n",
    "            s = start\n",
    "        if end is not None:\n",
    "            e = end\n",
    "        missing_dates = pd.DataFrame(pd.date_range(start = s, end = e).difference(data[date_col]), columns = [date_col])\n",
    "        missing_dates[aggregator] = item\n",
    "        for col in fill_cols:\n",
    "            if fill_val_dict is not None:\n",
    "                missing_dates[col] = fill_val_dict[col]\n",
    "            elif col in donor_cols:\n",
    "                try:\n",
    "                    missing_dates[col] = data[col].value_counts().idxmax()\n",
    "                except: \n",
    "                    missing_dates[col] = fill_value\n",
    "            else:\n",
    "                missing_dates[col] = fill_value\n",
    "        data = data.append(missing_dates)\n",
    "        new_df = new_df.append(data)\n",
    "    return new_df.sort_values(date_col)"
   ]
  },
  {
   "cell_type": "code",
   "execution_count": 66,
   "metadata": {},
   "outputs": [],
   "source": [
    "df = pd.read_csv('data/Mars_dataset.csv')\n",
    "df['Date'] = pd.to_datetime(df['Date'])"
   ]
  },
  {
   "cell_type": "code",
   "execution_count": 67,
   "metadata": {},
   "outputs": [
    {
     "name": "stdout",
     "output_type": "stream",
     "text": [
      "<class 'pandas.core.frame.DataFrame'>\n",
      "RangeIndex: 42928 entries, 0 to 42927\n",
      "Data columns (total 21 columns):\n",
      " #   Column              Non-Null Count  Dtype              \n",
      "---  ------              --------------  -----              \n",
      " 0   id                  42928 non-null  object             \n",
      " 1   Census Regions      42928 non-null  object             \n",
      " 2   All Markets         42928 non-null  object             \n",
      " 3   SUB_CATEGORY        42928 non-null  object             \n",
      " 4   MANUFACTURER        42928 non-null  object             \n",
      " 5   BRAND               29568 non-null  object             \n",
      " 6   CONSUMPTION         36206 non-null  object             \n",
      " 7   SEASONAL PACKAGING  24568 non-null  object             \n",
      " 8   PRODUCT FORM        24568 non-null  object             \n",
      " 9   All Products        42928 non-null  object             \n",
      " 10  target              42928 non-null  float64            \n",
      " 11  TDP                 42928 non-null  float64            \n",
      " 12  ACV                 42928 non-null  float64            \n",
      " 13  Date                42928 non-null  datetime64[ns, UTC]\n",
      " 14  WeekOfYr            42928 non-null  int64              \n",
      " 15  SOM_Ind             42928 non-null  float64            \n",
      " 16  EOM_Ind             42928 non-null  float64            \n",
      " 17  year                42928 non-null  int64              \n",
      " 18  month               42928 non-null  int64              \n",
      " 19  dow                 42928 non-null  int64              \n",
      " 20  Cluster             42928 non-null  object             \n",
      "dtypes: datetime64[ns, UTC](1), float64(5), int64(4), object(11)\n",
      "memory usage: 6.9+ MB\n"
     ]
    }
   ],
   "source": [
    "df.info()"
   ]
  },
  {
   "cell_type": "code",
   "execution_count": 68,
   "metadata": {},
   "outputs": [
    {
     "data": {
      "text/html": [
       "<div>\n",
       "<style scoped>\n",
       "    .dataframe tbody tr th:only-of-type {\n",
       "        vertical-align: middle;\n",
       "    }\n",
       "\n",
       "    .dataframe tbody tr th {\n",
       "        vertical-align: top;\n",
       "    }\n",
       "\n",
       "    .dataframe thead th {\n",
       "        text-align: right;\n",
       "    }\n",
       "</style>\n",
       "<table border=\"1\" class=\"dataframe\">\n",
       "  <thead>\n",
       "    <tr style=\"text-align: right;\">\n",
       "      <th></th>\n",
       "      <th>id</th>\n",
       "      <th>Census Regions</th>\n",
       "      <th>All Markets</th>\n",
       "      <th>SUB_CATEGORY</th>\n",
       "      <th>MANUFACTURER</th>\n",
       "      <th>BRAND</th>\n",
       "      <th>CONSUMPTION</th>\n",
       "      <th>SEASONAL PACKAGING</th>\n",
       "      <th>PRODUCT FORM</th>\n",
       "      <th>All Products</th>\n",
       "      <th>target</th>\n",
       "      <th>TDP</th>\n",
       "      <th>ACV</th>\n",
       "      <th>Date</th>\n",
       "      <th>WeekOfYr</th>\n",
       "      <th>SOM_Ind</th>\n",
       "      <th>EOM_Ind</th>\n",
       "      <th>year</th>\n",
       "      <th>month</th>\n",
       "      <th>dow</th>\n",
       "      <th>Cluster</th>\n",
       "    </tr>\n",
       "  </thead>\n",
       "  <tbody>\n",
       "    <tr>\n",
       "      <th>0</th>\n",
       "      <td>Midwest Region xAOCGUMHERSHEY CORPBUBBLE YUM B...</td>\n",
       "      <td>Midwest Region xAOC</td>\n",
       "      <td>Midwest Region xAOC</td>\n",
       "      <td>GUM</td>\n",
       "      <td>HERSHEY CORP</td>\n",
       "      <td>BUBBLE YUM BRAND</td>\n",
       "      <td>FC</td>\n",
       "      <td>NON SEASONAL PKG</td>\n",
       "      <td>CHUNK</td>\n",
       "      <td>GUM-HERSHEY CORP-BUBBLE YUM BRAND-FC-NON SEASO...</td>\n",
       "      <td>76.191924</td>\n",
       "      <td>0.172</td>\n",
       "      <td>0.172</td>\n",
       "      <td>2017-08-12 00:00:00+00:00</td>\n",
       "      <td>32</td>\n",
       "      <td>0.0</td>\n",
       "      <td>0.0</td>\n",
       "      <td>2017</td>\n",
       "      <td>8</td>\n",
       "      <td>5</td>\n",
       "      <td>One</td>\n",
       "    </tr>\n",
       "    <tr>\n",
       "      <th>1</th>\n",
       "      <td>Midwest Region xAOCGUMHERSHEY CORPBUBBLE YUM B...</td>\n",
       "      <td>Midwest Region xAOC</td>\n",
       "      <td>Midwest Region xAOC</td>\n",
       "      <td>GUM</td>\n",
       "      <td>HERSHEY CORP</td>\n",
       "      <td>BUBBLE YUM BRAND</td>\n",
       "      <td>FC</td>\n",
       "      <td>NaN</td>\n",
       "      <td>NaN</td>\n",
       "      <td>GUM-HERSHEY CORP-BUBBLE YUM BRAND-FC</td>\n",
       "      <td>76.191924</td>\n",
       "      <td>0.172</td>\n",
       "      <td>0.172</td>\n",
       "      <td>2017-08-12 00:00:00+00:00</td>\n",
       "      <td>32</td>\n",
       "      <td>0.0</td>\n",
       "      <td>0.0</td>\n",
       "      <td>2017</td>\n",
       "      <td>8</td>\n",
       "      <td>5</td>\n",
       "      <td>One</td>\n",
       "    </tr>\n",
       "    <tr>\n",
       "      <th>2</th>\n",
       "      <td>Midwest Region xAOCGUMHERSHEY CORPBUBBLE YUM B...</td>\n",
       "      <td>Midwest Region xAOC</td>\n",
       "      <td>Midwest Region xAOC</td>\n",
       "      <td>GUM</td>\n",
       "      <td>HERSHEY CORP</td>\n",
       "      <td>BUBBLE YUM BRAND</td>\n",
       "      <td>IC</td>\n",
       "      <td>NON SEASONAL PKG</td>\n",
       "      <td>CHUNK</td>\n",
       "      <td>GUM-HERSHEY CORP-BUBBLE YUM BRAND-IC-NON SEASO...</td>\n",
       "      <td>46737.033123</td>\n",
       "      <td>73.857</td>\n",
       "      <td>41.603</td>\n",
       "      <td>2017-08-12 00:00:00+00:00</td>\n",
       "      <td>32</td>\n",
       "      <td>0.0</td>\n",
       "      <td>0.0</td>\n",
       "      <td>2017</td>\n",
       "      <td>8</td>\n",
       "      <td>5</td>\n",
       "      <td>One</td>\n",
       "    </tr>\n",
       "    <tr>\n",
       "      <th>3</th>\n",
       "      <td>Midwest Region xAOCGUMHERSHEY CORPBUBBLE YUM B...</td>\n",
       "      <td>Midwest Region xAOC</td>\n",
       "      <td>Midwest Region xAOC</td>\n",
       "      <td>GUM</td>\n",
       "      <td>HERSHEY CORP</td>\n",
       "      <td>BUBBLE YUM BRAND</td>\n",
       "      <td>IC</td>\n",
       "      <td>NaN</td>\n",
       "      <td>NaN</td>\n",
       "      <td>GUM-HERSHEY CORP-BUBBLE YUM BRAND-IC</td>\n",
       "      <td>46737.033123</td>\n",
       "      <td>73.857</td>\n",
       "      <td>41.603</td>\n",
       "      <td>2017-08-12 00:00:00+00:00</td>\n",
       "      <td>32</td>\n",
       "      <td>0.0</td>\n",
       "      <td>0.0</td>\n",
       "      <td>2017</td>\n",
       "      <td>8</td>\n",
       "      <td>5</td>\n",
       "      <td>One</td>\n",
       "    </tr>\n",
       "    <tr>\n",
       "      <th>4</th>\n",
       "      <td>Midwest Region xAOCGUMHERSHEY CORPBUBBLE YUM B...</td>\n",
       "      <td>Midwest Region xAOC</td>\n",
       "      <td>Midwest Region xAOC</td>\n",
       "      <td>GUM</td>\n",
       "      <td>HERSHEY CORP</td>\n",
       "      <td>BUBBLE YUM BRAND</td>\n",
       "      <td>NaN</td>\n",
       "      <td>NaN</td>\n",
       "      <td>NaN</td>\n",
       "      <td>GUM-HERSHEY CORP-BUBBLE YUM BRAND</td>\n",
       "      <td>46814.031586</td>\n",
       "      <td>74.028</td>\n",
       "      <td>41.603</td>\n",
       "      <td>2017-08-12 00:00:00+00:00</td>\n",
       "      <td>32</td>\n",
       "      <td>0.0</td>\n",
       "      <td>0.0</td>\n",
       "      <td>2017</td>\n",
       "      <td>8</td>\n",
       "      <td>5</td>\n",
       "      <td>One</td>\n",
       "    </tr>\n",
       "  </tbody>\n",
       "</table>\n",
       "</div>"
      ],
      "text/plain": [
       "                                                  id       Census Regions  \\\n",
       "0  Midwest Region xAOCGUMHERSHEY CORPBUBBLE YUM B...  Midwest Region xAOC   \n",
       "1  Midwest Region xAOCGUMHERSHEY CORPBUBBLE YUM B...  Midwest Region xAOC   \n",
       "2  Midwest Region xAOCGUMHERSHEY CORPBUBBLE YUM B...  Midwest Region xAOC   \n",
       "3  Midwest Region xAOCGUMHERSHEY CORPBUBBLE YUM B...  Midwest Region xAOC   \n",
       "4  Midwest Region xAOCGUMHERSHEY CORPBUBBLE YUM B...  Midwest Region xAOC   \n",
       "\n",
       "           All Markets SUB_CATEGORY  MANUFACTURER             BRAND  \\\n",
       "0  Midwest Region xAOC          GUM  HERSHEY CORP  BUBBLE YUM BRAND   \n",
       "1  Midwest Region xAOC          GUM  HERSHEY CORP  BUBBLE YUM BRAND   \n",
       "2  Midwest Region xAOC          GUM  HERSHEY CORP  BUBBLE YUM BRAND   \n",
       "3  Midwest Region xAOC          GUM  HERSHEY CORP  BUBBLE YUM BRAND   \n",
       "4  Midwest Region xAOC          GUM  HERSHEY CORP  BUBBLE YUM BRAND   \n",
       "\n",
       "  CONSUMPTION SEASONAL PACKAGING PRODUCT FORM  \\\n",
       "0          FC   NON SEASONAL PKG        CHUNK   \n",
       "1          FC                NaN          NaN   \n",
       "2          IC   NON SEASONAL PKG        CHUNK   \n",
       "3          IC                NaN          NaN   \n",
       "4         NaN                NaN          NaN   \n",
       "\n",
       "                                        All Products        target     TDP  \\\n",
       "0  GUM-HERSHEY CORP-BUBBLE YUM BRAND-FC-NON SEASO...     76.191924   0.172   \n",
       "1               GUM-HERSHEY CORP-BUBBLE YUM BRAND-FC     76.191924   0.172   \n",
       "2  GUM-HERSHEY CORP-BUBBLE YUM BRAND-IC-NON SEASO...  46737.033123  73.857   \n",
       "3               GUM-HERSHEY CORP-BUBBLE YUM BRAND-IC  46737.033123  73.857   \n",
       "4                  GUM-HERSHEY CORP-BUBBLE YUM BRAND  46814.031586  74.028   \n",
       "\n",
       "      ACV                      Date  WeekOfYr  SOM_Ind  EOM_Ind  year  month  \\\n",
       "0   0.172 2017-08-12 00:00:00+00:00        32      0.0      0.0  2017      8   \n",
       "1   0.172 2017-08-12 00:00:00+00:00        32      0.0      0.0  2017      8   \n",
       "2  41.603 2017-08-12 00:00:00+00:00        32      0.0      0.0  2017      8   \n",
       "3  41.603 2017-08-12 00:00:00+00:00        32      0.0      0.0  2017      8   \n",
       "4  41.603 2017-08-12 00:00:00+00:00        32      0.0      0.0  2017      8   \n",
       "\n",
       "   dow Cluster  \n",
       "0    5     One  \n",
       "1    5     One  \n",
       "2    5     One  \n",
       "3    5     One  \n",
       "4    5     One  "
      ]
     },
     "execution_count": 68,
     "metadata": {},
     "output_type": "execute_result"
    }
   ],
   "source": [
    "df.head()"
   ]
  },
  {
   "cell_type": "code",
   "execution_count": 69,
   "metadata": {},
   "outputs": [
    {
     "data": {
      "text/plain": [
       "1104"
      ]
     },
     "execution_count": 69,
     "metadata": {},
     "output_type": "execute_result"
    }
   ],
   "source": [
    "df['id'].nunique()"
   ]
  },
  {
   "cell_type": "code",
   "execution_count": 72,
   "metadata": {},
   "outputs": [
    {
     "data": {
      "text/plain": [
       "1"
      ]
     },
     "execution_count": 72,
     "metadata": {},
     "output_type": "execute_result"
    }
   ],
   "source": [
    "df['Cluster'].nunique()"
   ]
  },
  {
   "cell_type": "code",
   "execution_count": 70,
   "metadata": {},
   "outputs": [],
   "source": [
    "empty_cols = ['Census Regions', 'All Markets', 'SUB_CATEGORY', 'MANUFACTURER',\n",
    "       'BRAND', 'CONSUMPTION', 'SEASONAL PACKAGING', 'PRODUCT FORM',\n",
    "       'All Products', 'target', 'TDP', 'ACV', 'Date', 'WeekOfYr', 'SOM_Ind',\n",
    "       'EOM_Ind', 'year', 'month', 'dow', 'Cluster']"
   ]
  },
  {
   "cell_type": "code",
   "execution_count": 71,
   "metadata": {},
   "outputs": [],
   "source": [
    "borrow_cols = ['Census Regions', 'All Markets', 'SUB_CATEGORY', 'MANUFACTURER',\n",
    "       'BRAND', 'CONSUMPTION', 'SEASONAL PACKAGING', 'PRODUCT FORM',\n",
    "       'All Products', 'Cluster']"
   ]
  },
  {
   "cell_type": "code",
   "execution_count": 14,
   "metadata": {},
   "outputs": [
    {
     "name": "stderr",
     "output_type": "stream",
     "text": [
      "100%|██████████| 1104/1104 [13:35<00:00,  1.35it/s]\n"
     ]
    }
   ],
   "source": [
    "df_filled = find_fill_missing_dates(df= df, aggregator= 'id', date_col= 'Date', fill_cols= empty_cols, start= None, end= None, \\\n",
    "                                    fill_value= np.nan, fill_val_dict= None)"
   ]
  },
  {
   "cell_type": "code",
   "execution_count": 15,
   "metadata": {},
   "outputs": [
    {
     "name": "stdout",
     "output_type": "stream",
     "text": [
      "<class 'pandas.core.frame.DataFrame'>\n",
      "Int64Index: 1195472 entries, 0 to 26\n",
      "Data columns (total 21 columns):\n",
      " #   Column              Non-Null Count    Dtype  \n",
      "---  ------              --------------    -----  \n",
      " 0   id                  1195472 non-null  object \n",
      " 1   Census Regions      42928 non-null    object \n",
      " 2   All Markets         42928 non-null    object \n",
      " 3   SUB_CATEGORY        42928 non-null    object \n",
      " 4   MANUFACTURER        42928 non-null    object \n",
      " 5   BRAND               29568 non-null    object \n",
      " 6   CONSUMPTION         36206 non-null    object \n",
      " 7   SEASONAL PACKAGING  24568 non-null    object \n",
      " 8   PRODUCT FORM        24568 non-null    object \n",
      " 9   All Products        42928 non-null    object \n",
      " 10  target              42928 non-null    float64\n",
      " 11  TDP                 42928 non-null    float64\n",
      " 12  ACV                 42928 non-null    float64\n",
      " 13  Date                42928 non-null    object \n",
      " 14  WeekOfYr            42928 non-null    float64\n",
      " 15  SOM_Ind             42928 non-null    float64\n",
      " 16  EOM_Ind             42928 non-null    float64\n",
      " 17  year                42928 non-null    float64\n",
      " 18  month               42928 non-null    float64\n",
      " 19  dow                 42928 non-null    float64\n",
      " 20  Cluster             42928 non-null    object \n",
      "dtypes: float64(9), object(12)\n",
      "memory usage: 200.7+ MB\n"
     ]
    }
   ],
   "source": [
    "df_filled.info()"
   ]
  },
  {
   "cell_type": "code",
   "execution_count": 53,
   "metadata": {},
   "outputs": [
    {
     "name": "stderr",
     "output_type": "stream",
     "text": [
      "100%|██████████| 1104/1104 [12:46<00:00,  1.44it/s]\n"
     ]
    }
   ],
   "source": [
    "df_filled2 = find_fill_missing_dates2(df= df, aggregator= 'id', date_col= 'Date', fill_cols= empty_cols,  donor_cols= borrow_cols)"
   ]
  },
  {
   "cell_type": "code",
   "execution_count": 54,
   "metadata": {},
   "outputs": [
    {
     "name": "stdout",
     "output_type": "stream",
     "text": [
      "<class 'pandas.core.frame.DataFrame'>\n",
      "Int64Index: 1195472 entries, 0 to 26\n",
      "Data columns (total 21 columns):\n",
      " #   Column              Non-Null Count    Dtype  \n",
      "---  ------              --------------    -----  \n",
      " 0   id                  1195472 non-null  object \n",
      " 1   Census Regions      1195472 non-null  object \n",
      " 2   All Markets         1195472 non-null  object \n",
      " 3   SUB_CATEGORY        1195472 non-null  object \n",
      " 4   MANUFACTURER        1195472 non-null  object \n",
      " 5   BRAND               826427 non-null   object \n",
      " 6   CONSUMPTION         1009021 non-null  object \n",
      " 7   SEASONAL PACKAGING  686987 non-null   object \n",
      " 8   PRODUCT FORM        686987 non-null   object \n",
      " 9   All Products        1195472 non-null  object \n",
      " 10  target              42928 non-null    float64\n",
      " 11  TDP                 42928 non-null    float64\n",
      " 12  ACV                 42928 non-null    float64\n",
      " 13  Date                42928 non-null    object \n",
      " 14  WeekOfYr            42928 non-null    float64\n",
      " 15  SOM_Ind             42928 non-null    float64\n",
      " 16  EOM_Ind             42928 non-null    float64\n",
      " 17  year                42928 non-null    float64\n",
      " 18  month               42928 non-null    float64\n",
      " 19  dow                 42928 non-null    float64\n",
      " 20  Cluster             1195472 non-null  object \n",
      "dtypes: float64(9), object(12)\n",
      "memory usage: 200.7+ MB\n"
     ]
    }
   ],
   "source": [
    "df_filled2.info()"
   ]
  },
  {
   "cell_type": "code",
   "execution_count": 55,
   "metadata": {},
   "outputs": [
    {
     "data": {
      "text/html": [
       "<div>\n",
       "<style scoped>\n",
       "    .dataframe tbody tr th:only-of-type {\n",
       "        vertical-align: middle;\n",
       "    }\n",
       "\n",
       "    .dataframe tbody tr th {\n",
       "        vertical-align: top;\n",
       "    }\n",
       "\n",
       "    .dataframe thead th {\n",
       "        text-align: right;\n",
       "    }\n",
       "</style>\n",
       "<table border=\"1\" class=\"dataframe\">\n",
       "  <thead>\n",
       "    <tr style=\"text-align: right;\">\n",
       "      <th></th>\n",
       "      <th>id</th>\n",
       "      <th>Census Regions</th>\n",
       "      <th>All Markets</th>\n",
       "      <th>SUB_CATEGORY</th>\n",
       "      <th>MANUFACTURER</th>\n",
       "      <th>BRAND</th>\n",
       "      <th>CONSUMPTION</th>\n",
       "      <th>SEASONAL PACKAGING</th>\n",
       "      <th>PRODUCT FORM</th>\n",
       "      <th>All Products</th>\n",
       "      <th>target</th>\n",
       "      <th>TDP</th>\n",
       "      <th>ACV</th>\n",
       "      <th>Date</th>\n",
       "      <th>WeekOfYr</th>\n",
       "      <th>SOM_Ind</th>\n",
       "      <th>EOM_Ind</th>\n",
       "      <th>year</th>\n",
       "      <th>month</th>\n",
       "      <th>dow</th>\n",
       "      <th>Cluster</th>\n",
       "    </tr>\n",
       "  </thead>\n",
       "  <tbody>\n",
       "    <tr>\n",
       "      <th>0</th>\n",
       "      <td>Midwest Region xAOCGUMHERSHEY CORPBUBBLE YUM B...</td>\n",
       "      <td>Midwest Region xAOC</td>\n",
       "      <td>Midwest Region xAOC</td>\n",
       "      <td>GUM</td>\n",
       "      <td>HERSHEY CORP</td>\n",
       "      <td>BUBBLE YUM BRAND</td>\n",
       "      <td>FC</td>\n",
       "      <td>NON SEASONAL PKG</td>\n",
       "      <td>CHUNK</td>\n",
       "      <td>GUM-HERSHEY CORP-BUBBLE YUM BRAND-FC-NON SEASO...</td>\n",
       "      <td>7.619192e+01</td>\n",
       "      <td>0.172</td>\n",
       "      <td>0.172</td>\n",
       "      <td>2017-08-12 00:00:00+00:00</td>\n",
       "      <td>32.0</td>\n",
       "      <td>0.0</td>\n",
       "      <td>0.0</td>\n",
       "      <td>2017.0</td>\n",
       "      <td>8.0</td>\n",
       "      <td>5.0</td>\n",
       "      <td>One</td>\n",
       "    </tr>\n",
       "    <tr>\n",
       "      <th>527</th>\n",
       "      <td>Total US FoodGUMHERSHEY CORPHERSHEY AO BRANDSn...</td>\n",
       "      <td>Total US Food</td>\n",
       "      <td>Total US Food</td>\n",
       "      <td>GUM</td>\n",
       "      <td>HERSHEY CORP</td>\n",
       "      <td>HERSHEY AO BRANDS</td>\n",
       "      <td>NaN</td>\n",
       "      <td>NaN</td>\n",
       "      <td>NaN</td>\n",
       "      <td>GUM-HERSHEY CORP-HERSHEY AO BRANDS</td>\n",
       "      <td>6.600000e-02</td>\n",
       "      <td>0.001</td>\n",
       "      <td>0.001</td>\n",
       "      <td>2017-08-12 00:00:00+00:00</td>\n",
       "      <td>32.0</td>\n",
       "      <td>0.0</td>\n",
       "      <td>0.0</td>\n",
       "      <td>2017.0</td>\n",
       "      <td>8.0</td>\n",
       "      <td>5.0</td>\n",
       "      <td>One</td>\n",
       "    </tr>\n",
       "    <tr>\n",
       "      <th>528</th>\n",
       "      <td>Total US FoodGUMHERSHEY CORPICE BREAKERS BRAND...</td>\n",
       "      <td>Total US Food</td>\n",
       "      <td>Total US Food</td>\n",
       "      <td>GUM</td>\n",
       "      <td>HERSHEY CORP</td>\n",
       "      <td>ICE BREAKERS BRAND</td>\n",
       "      <td>IC</td>\n",
       "      <td>NON SEASONAL PKG</td>\n",
       "      <td>SOFT CHEWS</td>\n",
       "      <td>GUM-HERSHEY CORP-ICE BREAKERS BRAND-IC-NON SEA...</td>\n",
       "      <td>2.474256e+05</td>\n",
       "      <td>297.012</td>\n",
       "      <td>84.841</td>\n",
       "      <td>2017-08-12 00:00:00+00:00</td>\n",
       "      <td>32.0</td>\n",
       "      <td>0.0</td>\n",
       "      <td>0.0</td>\n",
       "      <td>2017.0</td>\n",
       "      <td>8.0</td>\n",
       "      <td>5.0</td>\n",
       "      <td>One</td>\n",
       "    </tr>\n",
       "    <tr>\n",
       "      <th>83</th>\n",
       "      <td>Midwest Region xAOCGUMMONDELEZ INTERNATIONAL I...</td>\n",
       "      <td>Midwest Region xAOC</td>\n",
       "      <td>Midwest Region xAOC</td>\n",
       "      <td>GUM</td>\n",
       "      <td>MONDELEZ INTERNATIONAL INC</td>\n",
       "      <td>BUBBLICIOUS BRAND</td>\n",
       "      <td>FC</td>\n",
       "      <td>NaN</td>\n",
       "      <td>NaN</td>\n",
       "      <td>GUM-MONDELEZ INTERNATIONAL INC-BUBBLICIOUS BRA...</td>\n",
       "      <td>1.715552e+03</td>\n",
       "      <td>0.587</td>\n",
       "      <td>0.584</td>\n",
       "      <td>2017-08-12 00:00:00+00:00</td>\n",
       "      <td>32.0</td>\n",
       "      <td>0.0</td>\n",
       "      <td>0.0</td>\n",
       "      <td>2017.0</td>\n",
       "      <td>8.0</td>\n",
       "      <td>5.0</td>\n",
       "      <td>One</td>\n",
       "    </tr>\n",
       "    <tr>\n",
       "      <th>840</th>\n",
       "      <td>Total US xAOC + ConvGUMMONDELEZ INTERNATIONAL ...</td>\n",
       "      <td>Total US xAOC + Conv</td>\n",
       "      <td>Total US xAOC + Conv</td>\n",
       "      <td>GUM</td>\n",
       "      <td>MONDELEZ INTERNATIONAL INC</td>\n",
       "      <td>NaN</td>\n",
       "      <td>IC</td>\n",
       "      <td>NaN</td>\n",
       "      <td>NaN</td>\n",
       "      <td>GUM-MONDELEZ INTERNATIONAL INC-IC</td>\n",
       "      <td>1.806446e+06</td>\n",
       "      <td>1275.602</td>\n",
       "      <td>92.850</td>\n",
       "      <td>2017-08-12 00:00:00+00:00</td>\n",
       "      <td>32.0</td>\n",
       "      <td>0.0</td>\n",
       "      <td>0.0</td>\n",
       "      <td>2017.0</td>\n",
       "      <td>8.0</td>\n",
       "      <td>5.0</td>\n",
       "      <td>One</td>\n",
       "    </tr>\n",
       "  </tbody>\n",
       "</table>\n",
       "</div>"
      ],
      "text/plain": [
       "                                                    id        Census Regions  \\\n",
       "0    Midwest Region xAOCGUMHERSHEY CORPBUBBLE YUM B...   Midwest Region xAOC   \n",
       "527  Total US FoodGUMHERSHEY CORPHERSHEY AO BRANDSn...         Total US Food   \n",
       "528  Total US FoodGUMHERSHEY CORPICE BREAKERS BRAND...         Total US Food   \n",
       "83   Midwest Region xAOCGUMMONDELEZ INTERNATIONAL I...   Midwest Region xAOC   \n",
       "840  Total US xAOC + ConvGUMMONDELEZ INTERNATIONAL ...  Total US xAOC + Conv   \n",
       "\n",
       "              All Markets SUB_CATEGORY                MANUFACTURER  \\\n",
       "0     Midwest Region xAOC          GUM                HERSHEY CORP   \n",
       "527         Total US Food          GUM                HERSHEY CORP   \n",
       "528         Total US Food          GUM                HERSHEY CORP   \n",
       "83    Midwest Region xAOC          GUM  MONDELEZ INTERNATIONAL INC   \n",
       "840  Total US xAOC + Conv          GUM  MONDELEZ INTERNATIONAL INC   \n",
       "\n",
       "                  BRAND CONSUMPTION SEASONAL PACKAGING PRODUCT FORM  \\\n",
       "0      BUBBLE YUM BRAND          FC   NON SEASONAL PKG        CHUNK   \n",
       "527   HERSHEY AO BRANDS         NaN                NaN          NaN   \n",
       "528  ICE BREAKERS BRAND          IC   NON SEASONAL PKG   SOFT CHEWS   \n",
       "83    BUBBLICIOUS BRAND          FC                NaN          NaN   \n",
       "840                 NaN          IC                NaN          NaN   \n",
       "\n",
       "                                          All Products        target  \\\n",
       "0    GUM-HERSHEY CORP-BUBBLE YUM BRAND-FC-NON SEASO...  7.619192e+01   \n",
       "527                 GUM-HERSHEY CORP-HERSHEY AO BRANDS  6.600000e-02   \n",
       "528  GUM-HERSHEY CORP-ICE BREAKERS BRAND-IC-NON SEA...  2.474256e+05   \n",
       "83   GUM-MONDELEZ INTERNATIONAL INC-BUBBLICIOUS BRA...  1.715552e+03   \n",
       "840                  GUM-MONDELEZ INTERNATIONAL INC-IC  1.806446e+06   \n",
       "\n",
       "          TDP     ACV                       Date  WeekOfYr  SOM_Ind  EOM_Ind  \\\n",
       "0       0.172   0.172  2017-08-12 00:00:00+00:00      32.0      0.0      0.0   \n",
       "527     0.001   0.001  2017-08-12 00:00:00+00:00      32.0      0.0      0.0   \n",
       "528   297.012  84.841  2017-08-12 00:00:00+00:00      32.0      0.0      0.0   \n",
       "83      0.587   0.584  2017-08-12 00:00:00+00:00      32.0      0.0      0.0   \n",
       "840  1275.602  92.850  2017-08-12 00:00:00+00:00      32.0      0.0      0.0   \n",
       "\n",
       "       year  month  dow Cluster  \n",
       "0    2017.0    8.0  5.0     One  \n",
       "527  2017.0    8.0  5.0     One  \n",
       "528  2017.0    8.0  5.0     One  \n",
       "83   2017.0    8.0  5.0     One  \n",
       "840  2017.0    8.0  5.0     One  "
      ]
     },
     "execution_count": 55,
     "metadata": {},
     "output_type": "execute_result"
    }
   ],
   "source": [
    "df_filled2.head()"
   ]
  },
  {
   "cell_type": "code",
   "execution_count": 62,
   "metadata": {},
   "outputs": [
    {
     "data": {
      "text/plain": [
       "array(['One'], dtype=object)"
      ]
     },
     "execution_count": 62,
     "metadata": {},
     "output_type": "execute_result"
    }
   ],
   "source": [
    "df['Cluster'].unique()"
   ]
  },
  {
   "cell_type": "code",
   "execution_count": 61,
   "metadata": {},
   "outputs": [
    {
     "data": {
      "text/plain": [
       "array(['One'], dtype=object)"
      ]
     },
     "execution_count": 61,
     "metadata": {},
     "output_type": "execute_result"
    }
   ],
   "source": [
    "df_filled2['Cluster'].unique()"
   ]
  },
  {
   "cell_type": "code",
   "execution_count": 57,
   "metadata": {},
   "outputs": [],
   "source": [
    "df_filled.to_csv('data/Mars_filled_nans.csv', index= None)\n",
    "df_filled2.to_csv('data/Mars_filled_nans_and_donor_vals.csv', index= None)"
   ]
  },
  {
   "cell_type": "markdown",
   "metadata": {},
   "source": [
    "## Seems like some of the cluster data was missing, here is the full dataset"
   ]
  },
  {
   "cell_type": "code",
   "execution_count": 76,
   "metadata": {},
   "outputs": [],
   "source": [
    "full_df = pd.read_csv('data/gum-train1.csv_6011d972ac345be28877c0c9 (1).csv')\n",
    "full_df['Date'] = pd.to_datetime(full_df['Date'])"
   ]
  },
  {
   "cell_type": "code",
   "execution_count": 77,
   "metadata": {},
   "outputs": [
    {
     "name": "stdout",
     "output_type": "stream",
     "text": [
      "<class 'pandas.core.frame.DataFrame'>\n",
      "RangeIndex: 59206 entries, 0 to 59205\n",
      "Data columns (total 14 columns):\n",
      " #   Column              Non-Null Count  Dtype         \n",
      "---  ------              --------------  -----         \n",
      " 0   id                  59206 non-null  object        \n",
      " 1   Census Regions      59206 non-null  object        \n",
      " 2   All Markets         59206 non-null  object        \n",
      " 3   SUB_CATEGORY        59206 non-null  object        \n",
      " 4   MANUFACTURER        59206 non-null  object        \n",
      " 5   BRAND               42087 non-null  object        \n",
      " 6   CONSUMPTION         50590 non-null  object        \n",
      " 7   SEASONAL PACKAGING  34931 non-null  object        \n",
      " 8   PRODUCT FORM        34931 non-null  object        \n",
      " 9   All Products        59206 non-null  object        \n",
      " 10  target              59206 non-null  float64       \n",
      " 11  TDP                 59206 non-null  float64       \n",
      " 12  ACV                 59206 non-null  float64       \n",
      " 13  Date                59206 non-null  datetime64[ns]\n",
      "dtypes: datetime64[ns](1), float64(3), object(10)\n",
      "memory usage: 6.3+ MB\n"
     ]
    }
   ],
   "source": [
    "full_df.info()"
   ]
  },
  {
   "cell_type": "code",
   "execution_count": 78,
   "metadata": {},
   "outputs": [
    {
     "data": {
      "text/plain": [
       "Index(['id', 'Census Regions', 'All Markets', 'SUB_CATEGORY', 'MANUFACTURER',\n",
       "       'BRAND', 'CONSUMPTION', 'SEASONAL PACKAGING', 'PRODUCT FORM',\n",
       "       'All Products', 'target', 'TDP', 'ACV', 'Date'],\n",
       "      dtype='object')"
      ]
     },
     "execution_count": 78,
     "metadata": {},
     "output_type": "execute_result"
    }
   ],
   "source": [
    "full_df.columns"
   ]
  },
  {
   "cell_type": "code",
   "execution_count": 80,
   "metadata": {},
   "outputs": [],
   "source": [
    "full_empty = ['Census Regions', 'All Markets', 'SUB_CATEGORY', 'MANUFACTURER',\\\n",
    "              'BRAND', 'CONSUMPTION', 'SEASONAL PACKAGING', 'PRODUCT FORM',\\\n",
    "              'All Products', 'target', 'TDP', 'ACV']\n",
    "full_borrow = ['Census Regions', 'All Markets', 'SUB_CATEGORY', 'MANUFACTURER',\\\n",
    "            'BRAND', 'CONSUMPTION', 'SEASONAL PACKAGING', 'PRODUCT FORM','All Products']"
   ]
  },
  {
   "cell_type": "code",
   "execution_count": 81,
   "metadata": {},
   "outputs": [
    {
     "name": "stderr",
     "output_type": "stream",
     "text": [
      "100%|██████████| 1864/1864 [08:42<00:00,  3.56it/s]\n"
     ]
    }
   ],
   "source": [
    "full_df_filled = find_fill_missing_dates2(df= full_df, aggregator= 'id', date_col= 'Date', fill_cols= full_empty,  donor_cols= full_borrow)"
   ]
  },
  {
   "cell_type": "code",
   "execution_count": 84,
   "metadata": {},
   "outputs": [],
   "source": [
    "full_df_filled['Date'] = pd.to_datetime(full_df_filled['Date'])"
   ]
  },
  {
   "cell_type": "code",
   "execution_count": 85,
   "metadata": {},
   "outputs": [
    {
     "name": "stdout",
     "output_type": "stream",
     "text": [
      "<class 'pandas.core.frame.DataFrame'>\n",
      "Int64Index: 1754888 entries, 0 to 34957\n",
      "Data columns (total 14 columns):\n",
      " #   Column              Dtype         \n",
      "---  ------              -----         \n",
      " 0   id                  object        \n",
      " 1   Census Regions      object        \n",
      " 2   All Markets         object        \n",
      " 3   SUB_CATEGORY        object        \n",
      " 4   MANUFACTURER        object        \n",
      " 5   BRAND               object        \n",
      " 6   CONSUMPTION         object        \n",
      " 7   SEASONAL PACKAGING  object        \n",
      " 8   PRODUCT FORM        object        \n",
      " 9   All Products        object        \n",
      " 10  target              float64       \n",
      " 11  TDP                 float64       \n",
      " 12  ACV                 float64       \n",
      " 13  Date                datetime64[ns]\n",
      "dtypes: datetime64[ns](1), float64(3), object(10)\n",
      "memory usage: 200.8+ MB\n"
     ]
    }
   ],
   "source": [
    "full_df_filled.info()"
   ]
  },
  {
   "cell_type": "code",
   "execution_count": 107,
   "metadata": {},
   "outputs": [],
   "source": [
    "# engineer some columns\n",
    "full_df_filled['WeekofYr'] = full_df_filled['Date'].apply(lambda x: x.week)\n",
    "full_df_filled['year'] = full_df_filled['Date'].apply(lambda x: x.year)\n",
    "full_df_filled['month'] = full_df_filled['Date'].apply(lambda x: x.month)\n",
    "full_df_filled['dow'] = full_df_filled['Date'].apply(lambda x: x.dayofweek)"
   ]
  },
  {
   "cell_type": "code",
   "execution_count": 121,
   "metadata": {},
   "outputs": [],
   "source": [
    "def check_special_date(date, check= 'last'):\n",
    "    import datetime\n",
    "    import calendar\n",
    "\n",
    "    if check == 'last':\n",
    "        special_date = calendar.monthrange(date.year, date.month)[1]\n",
    "        if date == datetime.date(date.year, date.month, special_date):\n",
    "            return True\n",
    "    elif check == 'first':\n",
    "        special_date = date.replace(day=1)\n",
    "        if date.day == special_date.day:\n",
    "            return True\n",
    "    else:\n",
    "        print('The value for \"check\" must be either \"first\" or \"last\".')\n",
    "        return False"
   ]
  },
  {
   "cell_type": "code",
   "execution_count": 125,
   "metadata": {},
   "outputs": [],
   "source": [
    "full_df_filled['EOM_ind'] = full_df_filled['Date'].apply(lambda x: check_special_date(x, 'last'))\n",
    "full_df_filled['FOM_ind'] = full_df_filled['Date'].apply(lambda x: check_special_date(x, 'first'))\n",
    "full_df_filled['EOM_ind'].fillna(False, inplace= True)\n",
    "full_df_filled['FOM_ind'].fillna(False, inplace= True)"
   ]
  },
  {
   "cell_type": "code",
   "execution_count": 128,
   "metadata": {},
   "outputs": [],
   "source": [
    "full_df_filled.to_csv('data/Mars_all_data_filled_nans_and_donor_vals_with_FE.csv', index= None)"
   ]
  },
  {
   "cell_type": "code",
   "execution_count": null,
   "metadata": {},
   "outputs": [],
   "source": []
  }
 ],
 "metadata": {
  "kernelspec": {
   "display_name": "Python 3",
   "language": "python",
   "name": "python3"
  },
  "language_info": {
   "codemirror_mode": {
    "name": "ipython",
    "version": 3
   },
   "file_extension": ".py",
   "mimetype": "text/x-python",
   "name": "python",
   "nbconvert_exporter": "python",
   "pygments_lexer": "ipython3",
   "version": "3.6.6"
  }
 },
 "nbformat": 4,
 "nbformat_minor": 4
}
