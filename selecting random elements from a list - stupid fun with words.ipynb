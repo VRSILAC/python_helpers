{
 "cells": [
  {
   "cell_type": "code",
   "execution_count": 1,
   "metadata": {},
   "outputs": [],
   "source": [
    "nouns = [\"fossil\", \"horse\", \"aardvark\", \"judge\", \"chef\", \"mango\", \"extrovert\", \"gorilla\"]\n",
    "verbs = [\"kicks\", \"jingles\", \"bounces\", \"slurps\", \"meows\", \"explodes\", \"curdles\"]\n",
    "adjectives = [\"furry\", \"balding\", \"incredulous\", \"fragrant\", \"exuberant\", \"glistening\"]\n",
    "prepositions = [\"against\", \"after\", \"into\", \"beneath\", \"upon\", \"for\", \"in\", \"like\", \"over\", \"within\"]\n",
    "adverbs = [\"curiously\", \"extravagantly\", \"tantalizingly\", \"furiously\", \"sensuously\"]"
   ]
  },
  {
   "cell_type": "code",
   "execution_count": 2,
   "metadata": {},
   "outputs": [],
   "source": [
    "import random\n",
    "\n",
    "def wax_poetic(lst1, lst2, lst3, lst4, lst5):\n",
    "    random_nouns = random.choices(lst1, k = 3)\n",
    "    random_verbs = random.choices(lst2, k = 3)\n",
    "    random_adjectives = random.choices(lst3, k = 3)\n",
    "    random_prepositions = random.choices(lst4, k = 2)\n",
    "    random_adverbs = random.choice(lst5)\n",
    "    \n",
    "    noun1 = random_nouns[0]\n",
    "    noun2 = random_nouns[1]\n",
    "    noun3 = random_nouns[2]\n",
    "    \n",
    "    verb1 = random_verbs[0]\n",
    "    verb2 = random_verbs[1]\n",
    "    verb3 = random_verbs[2]\n",
    "    \n",
    "    adj1 = random_adjectives[0]\n",
    "    adj2 = random_adjectives[1]\n",
    "    adj3 = random_adjectives[2]\n",
    "    \n",
    "    prep1 = random_prepositions[0]\n",
    "    prep2 = random_prepositions[1]\n",
    "    \n",
    "    if random.choice(random_adjectives)[0] in ['a', 'e', 'i', 'o', 'u']:\n",
    "        first_word = 'An'\n",
    "    else:\n",
    "         first_word = 'A'\n",
    "    print(\n",
    "        f'{first_word} {adj1} {noun1}'\n",
    "        f'\\n'\n",
    "        f'\\n'\n",
    "        f'{first_word} {adj1} {noun1} {verb1} {prep1} the {adj2} {noun2}\\n'\n",
    "        f'{random_adverbs}, the {noun1} {verb2}\\n'\n",
    "        f'the {noun2} {verb3} {prep2} a {adj3} {noun3}\\n'\n",
    "    )  \n",
    "\n",
    "    return"
   ]
  },
  {
   "cell_type": "code",
   "execution_count": 3,
   "metadata": {},
   "outputs": [
    {
     "name": "stdout",
     "output_type": "stream",
     "text": [
      "A furry judge\n",
      "\n",
      "A furry judge slurps beneath the incredulous gorilla\n",
      "furiously, the judge curdles\n",
      "the gorilla explodes beneath a glistening mango\n",
      "\n"
     ]
    }
   ],
   "source": [
    "wax_poetic(lst1 = nouns, lst2 = verbs, lst3 = adjectives, lst4 = prepositions, lst5 = adverbs)"
   ]
  },
  {
   "cell_type": "code",
   "execution_count": null,
   "metadata": {},
   "outputs": [],
   "source": []
  }
 ],
 "metadata": {
  "kernelspec": {
   "display_name": "Python 3",
   "language": "python",
   "name": "python3"
  },
  "language_info": {
   "codemirror_mode": {
    "name": "ipython",
    "version": 3
   },
   "file_extension": ".py",
   "mimetype": "text/x-python",
   "name": "python",
   "nbconvert_exporter": "python",
   "pygments_lexer": "ipython3",
   "version": "3.7.6"
  }
 },
 "nbformat": 4,
 "nbformat_minor": 4
}
