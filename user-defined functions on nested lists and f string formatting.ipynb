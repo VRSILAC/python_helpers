{
 "cells": [
  {
   "cell_type": "code",
   "execution_count": 1,
   "metadata": {},
   "outputs": [],
   "source": [
    "universities = [\n",
    "    ['California Institute of Technology', 2175, 37704],\n",
    "    ['Harvard', 19627, 39849],\n",
    "    ['Massachusetts Institute of Technology', 10566, 40732],\n",
    "    ['Princeton', 7802, 37000],\n",
    "    ['Rice', 5879, 35551],\n",
    "    ['Stanford', 19535, 40569],\n",
    "    ['Yale', 11701, 40500]\n",
    "]"
   ]
  },
  {
   "cell_type": "code",
   "execution_count": 2,
   "metadata": {},
   "outputs": [],
   "source": [
    "import statistics\n",
    "\n",
    "def enrollment_stats(lst):\n",
    "    '''\n",
    "    This function loops over a nested list and perform built-in\n",
    "    functions on different elements of the list.\n",
    "    It also shows how to format the output in a certain way:\n",
    "    - How to insert an empty line in an output\n",
    "    - How to format a numeric with commas and decimal points\n",
    "    - How to write a multiline return statement\n",
    "    '''\n",
    "    total_students = 0\n",
    "    total_tuition = 0\n",
    "    for element in lst:\n",
    "        total_students += element[1]\n",
    "        total_tuition += element[2]\n",
    "        student_mean = statistics.mean([element[1] for element in lst])\n",
    "        student_median = statistics.median([element[1] for element in lst])\n",
    "        tuition_mean = statistics.mean([element[2] for element in lst])\n",
    "        tuition_median = statistics.median([element[2] for element in lst])\n",
    "        \n",
    "    return (\n",
    "        f'*************************'\n",
    "        f'\\n'\n",
    "        f'\\n'\n",
    "        f'Total students: {total_students: ,}\\n'\n",
    "        f'Total Tuition: ${total_tuition: ,}\\n'\n",
    "        f'\\n'\n",
    "        f'Student mean: {student_mean: ,.2f}\\n'\n",
    "        f'Student median: ${student_median: ,}\\n'\n",
    "        f'\\n'\n",
    "        f'Tuition mean: ${tuition_mean: ,.2f}\\n'\n",
    "        f'Tuition median: ${tuition_median: ,}'\n",
    "        f'\\n'\n",
    "        f'\\n'\n",
    "        f'*************************'\n",
    "    )"
   ]
  },
  {
   "cell_type": "code",
   "execution_count": 3,
   "metadata": {},
   "outputs": [
    {
     "name": "stdout",
     "output_type": "stream",
     "text": [
      "*************************\n",
      "\n",
      "Total students:  77,285\n",
      "Total Tuition: $ 271,905\n",
      "\n",
      "Student mean:  11,040.71\n",
      "Student median: $ 10,566\n",
      "\n",
      "Tuition mean: $ 38,843.57\n",
      "Tuition median: $ 39,849\n",
      "\n",
      "*************************\n"
     ]
    }
   ],
   "source": [
    "print(enrollment_stats(universities))"
   ]
  },
  {
   "cell_type": "code",
   "execution_count": null,
   "metadata": {},
   "outputs": [],
   "source": []
  }
 ],
 "metadata": {
  "kernelspec": {
   "display_name": "Python 3",
   "language": "python",
   "name": "python3"
  },
  "language_info": {
   "codemirror_mode": {
    "name": "ipython",
    "version": 3
   },
   "file_extension": ".py",
   "mimetype": "text/x-python",
   "name": "python",
   "nbconvert_exporter": "python",
   "pygments_lexer": "ipython3",
   "version": "3.7.6"
  }
 },
 "nbformat": 4,
 "nbformat_minor": 4
}
